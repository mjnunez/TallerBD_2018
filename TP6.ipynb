{
 "cells": [
  {
   "cell_type": "code",
   "execution_count": 4,
   "metadata": {},
   "outputs": [],
   "source": [
    "from neo4jrestclient.client import GraphDatabase\n",
    " \n",
    "db = GraphDatabase(\"http://localhost:7474\", username=\"root\", password=\"root\")\n",
    " \n",
    "# Create some nodes with labels\n",
    "user = db.labels.create(\"User\")\n",
    "u1 = db.nodes.create(name=\"Marco\")\n",
    "user.add(u1)\n",
    "u2 = db.nodes.create(name=\"Daniela\")\n",
    "user.add(u2)\n",
    " \n",
    "beer = db.labels.create(\"Beer\")\n",
    "b1 = db.nodes.create(name=\"Punk IPA\")\n",
    "b2 = db.nodes.create(name=\"Hoegaarden Rosee\")\n",
    "# You can associate a label with many nodes in one go\n",
    "beer.add(b1, b2)"
   ]
  },
  {
   "cell_type": "code",
   "execution_count": 5,
   "metadata": {},
   "outputs": [
    {
     "data": {
      "text/plain": [
       "<Neo4j Relationship: http://localhost:7474/db/data/relationship/320>"
      ]
     },
     "execution_count": 5,
     "metadata": {},
     "output_type": "execute_result"
    }
   ],
   "source": [
    "# User-likes->Beer relationships\n",
    "u1.relationships.create(\"likes\", b1)\n",
    "u1.relationships.create(\"likes\", b2)\n",
    "u2.relationships.create(\"likes\", b1)\n",
    "# Bi-directional relationship?\n",
    "u1.relationships.create(\"friends\", u2)"
   ]
  },
  {
   "cell_type": "code",
   "execution_count": 6,
   "metadata": {},
   "outputs": [],
   "source": [
    "#Creo dos nodos más\n",
    "u3 = db.nodes.create(name=\"Maria\")\n",
    "user.add(u3)\n",
    "u4 = db.nodes.create(name=\"Jose\")\n",
    "user.add(u4)"
   ]
  },
  {
   "cell_type": "code",
   "execution_count": 7,
   "metadata": {},
   "outputs": [
    {
     "data": {
      "text/plain": [
       "<Neo4j Relationship: http://localhost:7474/db/data/relationship/360>"
      ]
     },
     "execution_count": 7,
     "metadata": {},
     "output_type": "execute_result"
    }
   ],
   "source": [
    "#les doy caracteristicas\n",
    "u3.relationships.create(\"likes\", b2)\n",
    "u4.relationships.create(\"likes\", b2)\n",
    "u4.relationships.create(\"likes\", b1)"
   ]
  },
  {
   "cell_type": "code",
   "execution_count": 8,
   "metadata": {},
   "outputs": [
    {
     "data": {
      "text/plain": [
       "<Neo4j Relationship: http://localhost:7474/db/data/relationship/321>"
      ]
     },
     "execution_count": 8,
     "metadata": {},
     "output_type": "execute_result"
    }
   ],
   "source": [
    "#creo las relaciones de amistad\n",
    "u1.relationships.create(\"friends\", u3)\n",
    "u1.relationships.create(\"friends\", u4)\n",
    "u2.relationships.create(\"friends\", u3)"
   ]
  },
  {
   "cell_type": "code",
   "execution_count": 11,
   "metadata": {},
   "outputs": [
    {
     "data": {
      "text/plain": [
       "[[{'from': 'England', 'name': 'Ian', 'title': 'author'}],\n",
       " [{'from': 'Sweden', 'learn': 'surfing', 'name': 'Johan'}],\n",
       " [{'name': 'Maria'}],\n",
       " [{'name': 'Marco'}],\n",
       " [{'name': 'Punk IPA'}]]"
      ]
     },
     "execution_count": 11,
     "metadata": {},
     "output_type": "execute_result"
    }
   ],
   "source": [
    "query = \"MATCH (n)--() RETURN n LIMIT 5\"\n",
    "results = db.query(query, data_contents=True)\n",
    "results.rows"
   ]
  },
  {
   "cell_type": "code",
   "execution_count": 14,
   "metadata": {},
   "outputs": [
    {
     "name": "stdout",
     "output_type": "stream",
     "text": [
      "(Marco)-[likes]->(Hoegaarden Rosee)\n",
      "(Marco)-[likes]->(Punk IPA)\n"
     ]
    }
   ],
   "source": [
    "from neo4jrestclient import client\n",
    "\n",
    "q = 'MATCH (u:User)-[r:likes]->(m:Beer) WHERE u.name=\"Marco\" RETURN u, type(r), m'\n",
    "results = db.query(q, returns=(client.Node, str, client.Node))\n",
    "for r in results:\n",
    "    print(\"(%s)-[%s]->(%s)\" % (r[0][\"name\"], r[1], r[2][\"name\"]))"
   ]
  },
  {
   "cell_type": "code",
   "execution_count": null,
   "metadata": {},
   "outputs": [],
   "source": []
  }
 ],
 "metadata": {
  "kernelspec": {
   "display_name": "Python 3",
   "language": "python",
   "name": "python3"
  },
  "language_info": {
   "codemirror_mode": {
    "name": "ipython",
    "version": 3
   },
   "file_extension": ".py",
   "mimetype": "text/x-python",
   "name": "python",
   "nbconvert_exporter": "python",
   "pygments_lexer": "ipython3",
   "version": "3.6.5"
  }
 },
 "nbformat": 4,
 "nbformat_minor": 2
}
