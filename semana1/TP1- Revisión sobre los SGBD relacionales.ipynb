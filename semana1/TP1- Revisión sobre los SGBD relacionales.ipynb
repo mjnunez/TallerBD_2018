{
 "cells": [
  {
   "cell_type": "markdown",
   "metadata": {},
   "source": [
    "# TP1- Revision sobre los SGBD relacionales"
   ]
  },
  {
   "cell_type": "markdown",
   "metadata": {},
   "source": [
    "Para revisar algunos conceptos de los SGBD relacionales (en particular el modelo relacional y el lenguaje SQL), vamos a crear una pequeña Base de Datos relacional desde un programa en Python y a partir de datos que se encuentran en varios archivos textos.\n",
    "\n",
    "La base de datos que queremos construir está representada por el modelo Entidad-Asociación siguiente:"
   ]
  },
  {
   "cell_type": "markdown",
   "metadata": {},
   "source": [
    "<img src=\"modeloEA-1.png\">"
   ]
  },
  {
   "cell_type": "markdown",
   "metadata": {},
   "source": [
    "## 1. Transformación del Modelo Entidad-Asociación hacia Modelo Relacional\n",
    "\n",
    "Proponer un modelo relacional que corresponde al modelo Entidad-Asociación."
   ]
  },
  {
   "cell_type": "markdown",
   "metadata": {},
   "source": [
    "mediosprensa (PKnombre, dueño, nfollowers)\n",
    "noticias (PKID, FKnombre, titulo, texto, fecha)"
   ]
  },
  {
   "cell_type": "markdown",
   "metadata": {},
   "source": [
    "## 2. Crear la estructura de la base de datos desde un programa Python"
   ]
  },
  {
   "cell_type": "markdown",
   "metadata": {},
   "source": [
    "### 2.1 Conectarse a MySQL desde Python"
   ]
  },
  {
   "cell_type": "code",
   "execution_count": 69,
   "metadata": {},
   "outputs": [],
   "source": [
    "import mysql.connector\n",
    "\n",
    "cnx = mysql.connector.connect(user='root', password='root',\n",
    "                              host='127.0.0.1')\n",
    "DB_NAME = 'TP1'\n",
    "#cnx.close()"
   ]
  },
  {
   "cell_type": "code",
   "execution_count": 33,
   "metadata": {},
   "outputs": [],
   "source": [
    "cnx.close()"
   ]
  },
  {
   "cell_type": "markdown",
   "metadata": {},
   "source": [
    "### 2.2 Crear las tablas"
   ]
  },
  {
   "cell_type": "code",
   "execution_count": null,
   "metadata": {},
   "outputs": [],
   "source": [
    "from mysql.connector import errorcode\n",
    "\n",
    "\n",
    "\n",
    "TABLES = {}\n",
    "\n",
    "TABLES['mediosprensa'] = (\n",
    "    \"CREATE TABLE `mediosprensa` (\"\n",
    "    \"  `PKnombre` varchar(50) NOT NULL,\"\n",
    "    \"  `dueno` varchar(50) NOT NULL,\"\n",
    "    \"  `nfollowers` int NOT NULL,\"\n",
    "    \"  PRIMARY KEY (`PKnombre`)\"\n",
    "    \")\" )\n",
    "\n",
    "\n"
   ]
  },
  {
   "cell_type": "code",
   "execution_count": 35,
   "metadata": {},
   "outputs": [],
   "source": [
    "TABLES = {}\n",
    "TABLES['noticias'] = (\n",
    "    \"CREATE TABLE `noticias` (\"\n",
    "    \"  `PKID` int NOT NULL AUTO_INCREMENT,\"\n",
    "    \"  `FKnombre` varchar(50) NOT NULL,\"\n",
    "    \"  `titulo` text(100) NOT NULL,\"\n",
    "    \"  `texto` text(10000) NOT NULL,\"\n",
    "    \"  `fecha` date NOT NULL,\"\n",
    "    \"  PRIMARY KEY (`PKID`),\"\n",
    "    \"  CONSTRAINT `nombre` FOREIGN KEY (`FKnombre`) \"\n",
    "    \"     REFERENCES `mediosprensa` (`PKnombre`) ON DELETE CASCADE\"\n",
    "    \")\")"
   ]
  },
  {
   "cell_type": "code",
   "execution_count": 70,
   "metadata": {},
   "outputs": [],
   "source": [
    "cursor = cnx.cursor()\n",
    "#cursor.execute(\"CREATE DATABASE {} DEFAULT CHARACTER SET 'utf8'\".format(DB_NAME))\n",
    "cnx.database = DB_NAME\n"
   ]
  },
  {
   "cell_type": "code",
   "execution_count": null,
   "metadata": {},
   "outputs": [],
   "source": []
  },
  {
   "cell_type": "markdown",
   "metadata": {},
   "source": [
    "TABLES"
   ]
  },
  {
   "cell_type": "code",
   "execution_count": 37,
   "metadata": {
    "scrolled": true
   },
   "outputs": [
    {
     "name": "stdout",
     "output_type": "stream",
     "text": [
      "Creating table noticias: "
     ]
    }
   ],
   "source": [
    "for name, ddl in TABLES.items():\n",
    "    #try:\n",
    "        print(\"Creating table {}: \".format(name), end='')\n",
    "        cursor.execute(ddl)\n",
    "    #except mysql.connector.Error as err:\n",
    "    #    if err.errno == errorcode.ER_TABLE_EXISTS_ERROR:\n",
    "    #        print(\"already exists.\")\n",
    "    #    else:\n",
    "    #        print(err.msg)\n",
    "    #else:\n",
    "    #    print(\"OK\")\n"
   ]
  },
  {
   "cell_type": "markdown",
   "metadata": {},
   "source": [
    "# 3. Insertar los datos en la base de datos"
   ]
  },
  {
   "cell_type": "markdown",
   "metadata": {},
   "source": [
    "## 3.1 Leer los archivos textos"
   ]
  },
  {
   "cell_type": "code",
   "execution_count": null,
   "metadata": {
    "scrolled": false
   },
   "outputs": [],
   "source": [
    "import csv\n",
    "with open('medios.csv') as csvfile:\n",
    "    reader = csv.DictReader(csvfile)\n",
    "    for row in reader:\n",
    "        print(row['CódigoMedio'], row['PropiedadLegal'], row['FollowersFinAño'])\n",
    "\n",
    "fichero = open('noticias.txt', 'r' ) \n",
    "for linea in fichero:\n",
    "    campos=linea.split(\"\\t\")\n",
    "    for i in campos:\n",
    "        print(i)"
   ]
  },
  {
   "cell_type": "markdown",
   "metadata": {},
   "source": [
    "## 3.2 Leer los archivos textos y insertar los datos"
   ]
  },
  {
   "cell_type": "code",
   "execution_count": 71,
   "metadata": {},
   "outputs": [],
   "source": [
    "cursor.execute(\"commit;\")"
   ]
  },
  {
   "cell_type": "code",
   "execution_count": null,
   "metadata": {},
   "outputs": [],
   "source": [
    "import csv\n",
    "with open('medios.csv') as csvfile:\n",
    "    reader = csv.DictReader(csvfile)\n",
    "    for row in reader:\n",
    "        #print(row['CódigoMedio'], row['PropiedadLegal'], row['FollowersFinAño'])\n",
    "        add_mediosprensa = \"INSERT INTO mediosprensa (PKnombre, dueno, nfollowers) VALUES ('\"+row['CódigoMedio']+\"','\"+row['PropiedadLegal']+\"',\"+row['FollowersFinAño']+\");\"               \n",
    "        print(add_mediosprensa)\n",
    "        cursor.execute(add_mediosprensa)"
   ]
  },
  {
   "cell_type": "code",
   "execution_count": 66,
   "metadata": {
    "scrolled": true
   },
   "outputs": [
    {
     "name": "stdout",
     "output_type": "stream",
     "text": [
      "insert into noticias(fecha,FKnombre,titulo,texto) values('2017-02-28 23:09:06','24HorasTVN','Casa misteriosa de Puerto Montt se convierte en atracción turística - Casa misteriosa de Puerto Montt se convierte en atracción turística - Redes Sociales - 24horas\n",
      "','Masiva concurrencia a la misteriosa casa de Puerto Montt donde se registrarían supuestos sucesos paranormales. Masiva concurrencia a la misteriosa casa de Puerto Montt donde se registrarían supuestos sucesos paranormales.\n",
      "');\n",
      "insert into noticias(fecha,FKnombre,titulo,texto) values('2017-02-09 18:30:02','24HorasTVN','Bebé de sólo tres meses habría caído desde escaleras de tienda en Puerto Montt - Nacional - 24horas\n",
      "','El lactante fue trasladado hasta el hospital Regional de Puerto Montt. Se desconoce su estado de salud.  Un bebé de sólo tres meses habría caído desde las escaleras de la tienda comercial Dolly S.A, de Puerto Montt. De acuerdo a la información entregada por radio Biobío, la víctima fue trasladada de urgencia al hospital Regional de Puerto Montt. Mientras que voluntarios de Bomberos y personal de Carabineros se encuentran en el centro comercial para investigar las causas del accidente. Noticia en desarrollo...\n",
      "');\n",
      "insert into noticias(fecha,FKnombre,titulo,texto) values('2017-02-27 12:21:46','TerraChile','Los memes del \"caso paranormal\" de Puerto Montt\n",
      "','Ya son varios los memes que se toman las redes sociales.  Lo de Puerto Montt no es nada, este vídeo capta el momento claro y exacto de una aparición en un bosque de EEUU, juzgue usted... pic.twitter.com/UuOOCF7Xmt - Oye, estai viendo los Oscar? - Si...... #puertomontt pic.twitter.com/17kBkaT7YH Tranquilos gente de Puerto Montt, van en camino... pic.twitter.com/UvbQ6VaFWC Otra predicción más de Los Simpsons: La casa embrujada de Puerto Montt. pic.twitter.com/iFTyp15MGc No somos nada.. #PartyChilensisFtPuertoMontt pic.twitter.com/RCYm7BK9lG Preparando el exorcismo para la casa en Puerto Montt pic.twitter.com/kRXw6PiYwO compartir comentar\n",
      "');\n",
      "insert into noticias(fecha,FKnombre,titulo,texto) values('2017-02-27 20:38:11','thecliniccl','Webeo de Nano: Los cazafantasmas chilenos - The Clinic Online\n",
      "','The Clinic Online 27 Febrero, 2017 Tags: Carabineros, cazafantasmas, Fantasma, Paranormal, Puerto Montt Fotos: Youtube        A propósito de pescada y pescados  \n",
      "');\n",
      "insert into noticias(fecha,FKnombre,titulo,texto) values('2017-11-06 20:36:42','adnradiochile','Puerto Montt: Madre es asesinada a golpes por su propio hijo | Nacional | Radio ADN 91.7\n",
      "','Síguenos en: Hogar de madre asesinada en Puerto Montt. Foto: Puerto Montt La octava compañía de bomberos de Puerto Montt realizó el hallazgo del cuerpo de una mujer que, según informaron, fue asesinada por su propio hijo en la población Techo para todos de Puerto Montt. La querida vecina del sector Los Coigües tenía 56 años y se presume que el hombre, de 24 años y con sus facultades mentales perturbadas, la golpeó hasta matarla.  La fiscalía ordenó el arribo de personal policial especializado para realizar los peritajes en el lugar.\n",
      "');\n",
      "insert into noticias(fecha,FKnombre,titulo,texto) values('2017-04-06 07:58:41','biobio','Aerolínea LAW anuncia nuevo destino dentro de Chile y con llamativa oferta\n",
      "','La aerolínea Latin American Wings (LAW) anunció que estrenará el próximo 15 de mayo la ruta Santiago-Puerto Montt, la cual se suma a Concepción, destino que está operativo desde marzo. Desde la empresa indicaron que lanzarán una promoción especial para los interesados en viajar a la capital de la región de Los Lagos, con pasajes a $45.000, incluyendo tasas e impuestos. El nuevo destino incluirá un servicio de snack a bordo y la posibilidad de llevar un equipaje de mano de 8 kilos, además de una segunda maleta de 25 kilos en la bodega. Los horarios de salida serán de lunes a viernes desde Santiago hasta Puerto Montt a las 06:00 y 18:35 horas y de Puerto Montt a Santiago a las 08:05 y las 16:30 horas. Para el sábado habrá un vuelo de Santiago a Puerto Montt a las 12:00 y desde Puerto Montt hasta Santiago a las 14:05 horas. Asimismo, los domingos los vuelos saldrán de Santiago a Puerto Montt a las 18:35 y de Puerto Montt a Santiago a las 19:05 horas. LAW inició sus operaciones en Chile en enero de 2016, con la apertura de su primera ruta hacia República Dominicana. Actualmente cubre los destinos de Lima, Punta Cana y Puerto Príncipe. En el mercado local aterriza en Santiago, Concepción y ahora también Puerto Montt.\n",
      "');\n",
      "insert into noticias(fecha,FKnombre,titulo,texto) values('2017-04-05 12:35:49','biobio','Aerolínea LAW anuncia nuevo destino dentro de Chile y con llamativa oferta\n",
      "','La aerolínea Latin American Wings (LAW) anunció que sumó a su itinerario la ruta Santiago-Puerto Montt, que se estrenará el próximo 15 de mayo, la cual se suma a Concepción, destino que está operativo desde marzo. Lee también: Aerolínea LAW inició este lunes vuelos Concepción-Santiago con pasajes en oferta Desde la empresa indicaron que lanzarán una promoción especial para los interesados en viajar a la capital de la región de Los Lagos, con pasajes a $45.000, incluyendo tasas e impuestos. El nuevo destino incluirá un servicio de snack a bordo y existirá la posibilidad de llevar un equipaje de mano de 8 kilos, además de una segunda maleta de 25 kilos en la bodega. Los horarios de salida serán de lunes a viernes desde Santiago hasta Puerto Montt a las 06:00 y 18:35 hrs y de Puerto Montt a Santiago a las 08:05 y las 16:30 hrs. Para el sábado habrá un vuelo de Santiago a Puerto Montt a las 12:00 hrs y desde Puerto Montt hasta Santiago a las 14:05 hrs. Asimismo, los domingos los vuelos saldrán de Santiago a Puerto Montt a las 18:35 hrs y de Puerto Montt a Santiago a las 19:05 hrs. LAW inició sus operaciones en Chile en enero de 2016, con la apertura de su primera ruta hacia República Dominicana. Actualmente cubre los destinos de Lima, Punta Cana y Puerto Príncipe. En el mercado local aterriza en Santiago, Concepción y ahora también Puerto Montt.\n",
      "');\n",
      "insert into noticias(fecha,FKnombre,titulo,texto) values('2017-02-27 12:25:34','CNNChile','Los memes por la denuncia de un caso \"paranormal\" en Puerto Montt | CNN Chile\n",
      "','27 de Febrero, 2017 - 09:33 Hrs. Escalofriante registro \"paranormal... Familia de Puerto Montt debió ser... Uber se extiende en Chile y llega a... Céspedes y falta de acuerdo por bono:... Alcalde de Puerto Montt se mostró... El susto que le hizo pasar Ellen... MeetLatAm se realizará por primera vez... Alcalde de Puerto Montt detalló sobre... Alcalde de Puerto Montt profundizó en... Decretan alerta ambiental en Puerto... Como \"casa embrujada\" han circulado una serie de videos de una casa en Puerto Montt, la cual habría registrado actividades poco usuales en su interior. Muebles que se caían solos, son algunos de los casos denunciados. Sin embargo hay algunos que no creen esta historia, y realizaron los típicos memes al respecto.   CNN Chile © 2016 - Todos los derechos reservados. El uso de este sitio asume la aceptación de los Términos de uso.\n",
      "');\n",
      "insert into noticias(fecha,FKnombre,titulo,texto) values('2017-05-09 08:03:31','biobio','Murió carabinero acusado de disparar a su pareja en Puerto Montt\n",
      "','Durante horas de la mañana de este martes, finalmente murió el carabinero que permanecía grave tras dispararle a su pareja y luego intentar suicidarse en Puerto Montt. Lee también: Sernameg: Carabinero baleó a su pareja en Puerto Montt por creer que le pertenecía Se trata del cabo primero Hernán Fritz Uribe, de 35 años, perteneciente a la dotación de la sexta comisaría de Alerce, quien era acusado de balear a su pareja Carolina Cabezas Muñoz, de 23 años de edad, durante un matrimonio en el Hotel Vicente Costanera de Puerto Montt, el domingo. Luego de esto el uniformado se disparó en la cabeza, intentando suicidarse, por lo que permanecía internado grave en el Hospital de Puerto Montt. Finalmente en horas de esta mañana desde la institución dieron a conocer que Hernán Fritz Uribe murió a causa de la gravedad de las heridas. Por otro lado, la víctima también se encuentra internada en el Hospital de Puerto Montt.\n",
      "');\n",
      "insert into noticias(fecha,FKnombre,titulo,texto) values('2017-02-27 09:55:25','thecliniccl','Revuelo por caso paranormal en Puerto Montt: Carabinero asegura que invocó al Diablo - The Clinic Online\n",
      "','The Clinic Online 27 Febrero, 2017 Tags: carabinero, Chile, fenómeno paranormal, invocó al diablo, invoqué al diablo, paco, Puerto Montt, The Clinic tv Fotos: Youtube En un domicilio ubicado en Alerce de Puerto Montt se registraron supuestos objetos levitando y volando de rincón a rincón. En medio del extraño procedimiento, el carabinero Segundo Olavarría afirmó que invocó al Diablo para tratar de terminar con el problema que tenía a los vecinos helados.  Video: Así fue el extraño procedimiento por “fenómenos paranormales” que tuvo cagados de miedo a los pacos en Puerto Montt – The Clinic Online       A propósito de pescada y pescados  \n",
      "');\n",
      "insert into noticias(fecha,FKnombre,titulo,texto) values('2017-03-24 19:44:34','biobio','Carabineros allana población de Puerto Montt por balacera: hombre de Valparaíso está grave\n",
      "','La tarde de este viernes, Carabineros de Puerto Montt se dirigieron a población Antonio Varas de Puerto Montt para realizar un allanamiento tras una balacera, que dejó una persona herida de gravedad. Los efectivos se dirigieron a las cercanías de la escuela Marcela Paz para realizar la búsqueda tanto del atacante como del arma. Según se ha indicado, la víctima, un hombre proveniente de Valparaíso, se encuentra grave, internado en el hospital de Puerto Montt. De momento, se han allanado 3 viviendas, incautando una cantidad importante de armamentos y municiones y de momento, hay un detenido.\n",
      "');\n",
      "insert into noticias(fecha,FKnombre,titulo,texto) values('2017-05-10 16:18:21','biobio','Con una muestra gastronómica celebran el Día Internacional de las Familias en Puerto Montt\n",
      "','Con una muestra gastronómica, músical, y de artesanías típicas, Puerto Montt celebrará el Día Internacional de las Familias. Si bien el festejo nacional se realizará el 15 de mayo, la fiesta costumbrista se realizará este miércoles en Puerto Montt a partir de las 18:00 horas en la Fundación de Las Familias, ubicada en calle Sargento Silva esquina Estero Los Lobos. Se realizará un breve taller de cocina en vivo para enseñar a preparar milcao y chochoca de papa. Los asistentes también podrán dar sus primeros pasos en la tradicional cueca brava, y disfrutar de un espectáculo de música popular. Teresa Rey, directora ejecutiva de la Fundación de la Familia, expuso que la celebración se adelantó en Puerto Montt y dio cuenta de algunas de las actividades. La Fundación de las Familias imparte en Puerto Montt 12 talleres deportivos, culturales y de oficio. Durante 2016 participaron más de 250 familias.\n",
      "');\n",
      "insert into noticias(fecha,FKnombre,titulo,texto) values('2017-08-29 09:35:56','biobio','Denuncian malos olores que provendrían de ducto frente a Mall Costanera en Puerto Montt\n",
      "','Los transeúntes denuncian malos olores producto de un ducto que está ubicado frente al Mall Costanera en Puerto Montt, región de Los Lagos. La infraestructura, ubicada en avenida Juan Soler Manfredini, vierte constantemente un líquido al mar. En días de vientos incluso es salpicada hasta la vereda, dejando un evidente hedor. El presidente de la Cámara de Comercio de Puerto Montt, Carlos Stange, mostró su preocupación por el efecto que esto genera en los visitantes. David Andrade, del Comité de Defensa del Borde Costero, expuso que han accedido a estudios que dan cuenta de niveles de contaminación en la bahía de Puerto Montt. Desde la empresa sanitaria ESSAL se informó que ese no ducto no pertenece a su red y que las otras infraestructuras que se ubican en el borde costero del centro de Puerto Montt, se encuentran fuera de servicio.\n",
      "');\n",
      "insert into noticias(fecha,FKnombre,titulo,texto) values('2017-02-09 17:27:29','biobio','Menor de 3 meses habría caído desde escaleras de local comercial en Puerto Montt\n",
      "','Un niño de tres meses habría caído desde las escaleras de la tienda comercial Dolly S.A ubicada en calle Urmeneta, en el centro de Puerto Montt. En el lugar trabajan los voluntarios del Bomberos y personal de Carabineros, quienes realizan la evaluación correspondiente para determinar el estado de salud del menor. Tras la emergencia, la víctima fue trasladada de urgencia hasta el hospital regional de Puerto Montt. Por el momento, el tránsito se encuentra regularizado por personal policial.\n",
      "');\n",
      "insert into noticias(fecha,FKnombre,titulo,texto) values('2017-08-17 12:12:13','adnradiochile','Encuentran cadáver de hombre en la vía pública en Puerto Montt | Nacional | Radio ADN 91.7\n",
      "','Síguenos en: Imagen de referencia. Foto: Agencia Uno El cadáver de un hombre fue encontrado cerca de un paradero de la locomoción colectiva, frente a un supermercado Jumbo, en la ciudad de Puerto Montt. El sujeto fue identificado como Víctor Iván González, de 56 años, proveniente de Fresia. De acuerdo con Soy Puerto Montt, Carabineros informó que el cuerpo no tenía lesiones atribuibles a terceros. La Brigada de Homicidios de la PDI realizará los peritajes para determinar las razones del suceso.  \n",
      "');\n",
      "insert into noticias(fecha,FKnombre,titulo,texto) values('2017-05-01 21:21:04','biobio','Bomberos resultan lesionados en un accidente al acudir a una falsa alarma en Puerto Montt\n",
      "','Cuatro voluntarios de la compañía de Bomberos de Los Muermos, en Puerto Montt resultaron lesionados en un accidente de tránsito cuando se trasladaban en un camión aljibe. El hecho se produjo en la ruta Los Canelos, cuando iban a una emergencia en el Fundo San Francisco, lo que resultó ser una falsa alarma. Los lesionados se encuentran con heridas de diversa consideración y fueron trasladados hasta el hospital de Puerto Montt.\n",
      "');\n",
      "insert into noticias(fecha,FKnombre,titulo,texto) values('2017-05-07 09:28:06','biobio','Disparos al interior de hotel en Puerto Montt: un carabinero estaría involucrado\n",
      "','Un confuso incidente ocurrió la madrugada de este domingo en el Hotel Vicente Costanera de Puerto Montt. En el lugar se registraron disparos durante una fiesta de matrimonio. Según los primeros antecedentes, en el hecho estaría involucrado un funcionario de Carabineros, quien habría disparado en contra de su pareja. Tanto el hombre como la mujer fueron trasladados hasta el Hospital Regional de Puerto Montt. Se espera que el general de la Décima Zona de Carabineros se refiera al incidente durante las próximas horas.\n",
      "');\n",
      "insert into noticias(fecha,FKnombre,titulo,texto) values('2017-06-03 16:41:40','adnradiochile','Tromba arrancó el techo de tres viviendas en Puerto Montt | Nacional | Radio ADN 91.7\n",
      "','Síguenos en: Una tromba marina arrancó el techo de tres casas en la tradicional Población Modelo de Puerto Montt. La primera y cuarta compañía del Cuerpo de Bomberos de Puerto Montt debió ir a ayudar a los residentes, en la esquina de las calles Anibal Pinto con Barros Arana.     10-9 B-1 y QR-4 Pbl. Modelo Anibal Pinto con Barros Arana. Desprendimiento de Techumbre de varias casas\n",
      "');\n",
      "insert into noticias(fecha,FKnombre,titulo,texto) values('2017-12-30 19:03:15','adnradiochile','Abren sumario por celebración erótica en Hospital de Puerto Montt | Sociedad | Radio ADN 91.7\n",
      "','Síguenos en: Hospital de Puerto Montt . Foto: El Hospital de Puerto Montt decidió iniciar un sumario administrativo, luego de que se viralizara un video donde se observa a varios funcionarios bailando semidesnudos dentro del recinto . Los participante son dirigentes gremiales y habrían estado festejando el cumpleaños de una compañera de trabajo. El director del Hospital, Yuri Carvajal, aseguró que el hecho habría ocurrido en la lavandería del recinto.   \n",
      "');\n",
      "insert into noticias(fecha,FKnombre,titulo,texto) values('2017-02-11 19:39:49','biobio','Puerto Montt sacrificaría nuevo cementerio y casa de la cultura para concretar tren a Alerce\n",
      "','El intendente Leonardo De La Prida confía en que idea del tren Alerce-Puerto Montt pueda materializarse en un proyecto. Valoró la disposición del alcalde de bajar otras iniciativas para conseguir financiamiento para el ferrocarril. Esto luego que el alcalde Gervoy Paredes viajó a Santiago para reunirse con el ministro de transporte y los directos de EFE para comenzar a crear el proyecto de un tren que conecte Alerce con el sector Alto de Puerto Montt. El intendente Leonardo de la Prida, ve de buena forma las gestiones hechas para el retorno del tren a Puerto Montt, valorando que se este dispuesto a dejar otras iniciativas de lado por esta, que promete disminuir los tiempos de traslado. Dentro de los proyectos que se postergarían en favor del tren está el nuevo cementerio municipal que estaría ubicado en el sector poniente de Puerto Montt y la casa de la Cultura de Alerce. El alcalde Gervoy Paredes explicó lo que pasará con esas dos iniciativas. Se espera que para la primera quincena de marzo, ejecutivos de la empresa de Ferrocarriles del Estado visiten Puerto Montt en el marco de la materialización del proyecto. El alcalde Paredes dijo que en Santiago existe la disposición para agilizar el retorno del tren, explicando que incluso ya está pensado usar 3 maquinas que hoy están en la región de la Araucanía y que tendrían capacidad para 350 personas.\n",
      "');\n",
      "insert into noticias(fecha,FKnombre,titulo,texto) values('2017-08-22 09:11:37','biobio','Sistema frontal en Puerto Montt deja 30 semáforos caídos y traerá 40mm de lluvia\n",
      "','El sistema frontal de viento y lluvia que afecta a la región de Los Lagos ha provocado diversas problemáticas en materia de infraestructura, vialidad e incluso suspensión de clases. En Puerto Montt, éste dejó 30 semáforos caídos y, durante esta jornada, traerá 40 milímetros de lluvia. El frente, que trajo ráfagas de viento de hasta 100 kilómetros por hora, también gatilló 100 salidas de Bomberos a diferentes lugares de la capital regional, voladuras de techo en diferentes sectores de Puerto Montt y en Alerce, y cortes en el suministro eléctrico que afectaron a más de 10 mil personas, confirmó el encargado de Emergencia del municipio de Puerto Montt, Fabián Becerra, en conversación con Radio Bío Bío. Además, éste provocó la caída de 4 postes de electricidad y de 10 árboles, lo que llevó a que personal de Aseo y Ornato, en conjunto con personal de Obras Municipales, trabajara hasta esta madrugada cortando tanto ramas como árboles, a modo de evitar nuevas caídas en la vía pública. También, y debido a las fuerte ráfagas, se registró a caída de 4 postes de electricidad, añadió Becerra. Para ésta jornada, y según información de Meteorología, Puerto Montt experimentará vientos moderados hasta el mediodía, para luego pasar a un sistema de viento moderado a fuerte. En cuanto a las precipitaciones, y de acuerdo a la Oficina Nacional de Emergencia (Onemi), caerán hasta 40 milímetros, por lo que -desde el municipio- alertaron a los sectores de laderas de Puerto Montt ante posibles deslizamientos de tierra, finalizó Becerra.\n",
      "');\n",
      "insert into noticias(fecha,FKnombre,titulo,texto) values('2017-10-01 11:49:16','biobio','Condenan a 15 años de cárcel a hombre que violó y abusó a dos de sus hijas en Puerto Montt\n",
      "','A 15 años de cárcel fue condenado un hombre por violar y abusar a dos de sus hijas en Puerto Montt y Osorno durante 4 años. Al condenado se le impuso, específicamente, una pena de 10 años y un día de cárcel por el delito de violación impropia, a la que se suma otra de 5 años y un día por abuso sexual. Ambas penas las deberá cumplir tras las rejas. La fiscalía logro acreditar que desde el 2011 hasta el 2014. el hombre agredió sexualmente a su hija de 5 años de edad y abuso de otra de 4 años en sus domicilios de Puerto Montt y Osorno. La fiscal Ingrid Gonzalez, se mostró conforme con la pena dictada por el tribunal oral en lo penal de Puerto Montt. La sentencia también dispone que el hombre pierda los derechos frente a sus hijas y una vez concluida la condena, será vigilado por los próximos diez años.\n",
      "');\n",
      "insert into noticias(fecha,FKnombre,titulo,texto) values('2017-08-18 08:33:05','biobio','Gobierno reconoce aumento de robos en locales comerciales de Puerto Montt\n",
      "','El robo de especies y dinero en varios locales de Puerto Montt, son parte del balance de las últimas semanas. El Gobierno reconoció que los policías han registrado el aumento en la cantidad de delitos en lugares no habitados, es decir locales, empresas y otros. El gobernador de Llanquihue, Juan Carlos Gallardo, manifestó que en los fines de semana han detectado la mayor cantidad de hechos en Puerto Montt. El presidente de la Cámara de Comercio y Turismo de Puerto Montt, Carlos Stange, expresó que las cifras los tiene bastante angustiados, pues ven que los policías están sobrepasados. Stange cuestionó el trabajo de los Tribunales, ya que dijo que más se demora la policía en detener a un delincuente que este salga libre. Por ello apuntó a la necesidad de aumentar las penas para quienes roben en locales comerciales.\n",
      "');\n",
      "insert into noticias(fecha,FKnombre,titulo,texto) values('2018-01-05 16:39:43','biobio','Diputada electa Emilia Nuyado compromete apoyo parlamentario a iniciativas de Puerto Montt\n",
      "','El alcalde de Puerto Montt, Gervoy Paredes, consigue más apoyos parlamentarios para concretar iniciativas para Puerto Montt. El jefe comunal ahora se reunió con la electa diputada del PS, Emilia Nuyado, quien además se convirtió en la primera mujer huilliche en llegar al Congreso. Trabajo, vivienda, conectividad y turismo fueron algunos de los temas conversados en el encuentro que se realizó en el Municipio local. El alcalde Gervoy Paredes manifestó que pretenden crear una agenda de trabajo, para desarrollar distintas iniciativas que beneficien a la ciudadanía. La electa diputada, Emilia Nuyado, entregó su apoyo parlamentario a la gestión edilicia. Un bloque de centro izquierda es lo que pretende fortalecer el jefe comunal de Puerto Montt, tras reunirse con los diputados Jenny Álvarez y Gabriel Ascencio.\n",
      "');\n",
      "insert into noticias(fecha,FKnombre,titulo,texto) values('2017-04-17 12:35:45','biobio','Comerciantes de Puerto Montt contarían con escasas medidas de seguridad ante delincuencia\n",
      "','El gremio perteneciente al pequeño comercio acusó la falta de medidas de seguridad en el sector ante el importante aumento de hechos delictuales que afectan a locatarios y clientes en el centro de Puerto Montt. Luego de conocerse un estudio donde más de la mitad de los comerciantes de Puerto Montt reconoce haber sido victima de algún delito durante el segundo semestre del 2016, la Cámara de Comercio indicó que los pequeños locatarios cuentan con escasas o nulas medidas de seguridad. Lee también: Alcalde de Puerto Montt se defiende de críticas por aumento de delincuencia en el comercio Marcelo Schdmit, director de la Cámara de Comercio, expuso que los delincuentes saben que algunos trabajadores no cuentan con guardias o cámaras de vigilancia. Desde dicho organismo además expusieron que el exceso de vendedores ambulantes en el centro de la ciudad favorecería la proliferación de la delincuencia, asegurando que el desorden que se produce en las calles posibilita el actuar de desconocidos que cometen ilícitos.\n",
      "');\n",
      "insert into noticias(fecha,FKnombre,titulo,texto) values('2017-05-09 23:04:42','biobio','Aprueban contratación de abogados para poner fin a concesión de terminal en Puerto Montt\n",
      "','Fue aprobada la contratación de un equipo jurídico especializado para poner fin al contrato del municipio de Puerto Montt con la concesionaria del terminal de buses. De forma unánime, el Concejo Municipal dio luz verde a la contratación de abogados expertos en materia administrativa, los cuales se encargarán de revisar los documentos y las bases de licitación de la concesión del terminal de buses de Puerto Montt con la casa edilicia. Lee también: Senador Quinteros y terminal de buses de Puerto Montt: no tengo responsabilidad El alcalde Gervoy Paredes explicó algunos de los problemas que han quedado al descubierto con el actual acuerdo y critico nuevamente al exalcalde y senador Rabindranath Quinteros. Según se indicó, se contratarán los servicios de un estudio de abogados en Santiago junto a profesionales locales, mientras que además se anticipó que será un proceso complejo, ya que el documento firmado también fue redactado por expertos.\n",
      "');\n",
      "insert into noticias(fecha,FKnombre,titulo,texto) values('2017-06-25 00:37:01','biobio','OS-9 detiene a sujeto de 32 años que habría asesinado a su madre en Puerto Montt\n",
      "','Identificado como Elías Uribe de 32 años, sería la persona sindicada por el parricidio de una mujer de 50 años en Puerto Montt. Según la información entregada por personal del OS-9 de Carabineros, la persona fue hasta el domicilio de un vecino con el fin de solicitar un cuchillo, arma que habría utilizado para asesinar a su progenitora, identificada como María Elena Cárdenas Mansilla. Lee también: OS-9 de Carabineros investiga asesinato de mujer en Puerto Montt: el autor sería su hijo El sujeto fue detenido por personal policial en cercanías del domicilio. Según la información obtenida, el sujeto presentaría un grado de trastorno mental. La investigación por disposición de la Fiscalía local quedó a cargo del OS-9 y el Labocar de la Dirección de Investigación Criminal, mientras que él imputado será formalizado por el delito de parricidio en Puerto Montt.\n",
      "');\n",
      "insert into noticias(fecha,FKnombre,titulo,texto) values('2017-07-09 11:13:48','biobio','Unos 300 venezolanos residentes en Puerto Montt votarán en plebiscito propuesto por Maduro\n",
      "','La colonia de venezolanos residentes en Puerto Montt se sumará al plebiscito para votar la propuesta del presidente Nicolás Maduro de instaurar una Asamblea Constituyente. Tras la grave crisis política que vive Venezuela, que gatillaron el anuncio de elaborar una nueva carta magna, los residentes en Puerto Montt, informaron que habilitarán una sede para sumarse a las votaciones que tendrá varios locales de sufragio en Chile. Franzor Hernández, vocero de la agrupación “Amigos de Venezuela en Puerto Montt” detalló que se coordinarán con otros centros de votación, especialmente con Santiago, para llevar adelante el proceso. En la región de Los Lagos, serían cerca de 300 las personas habilitadas para votar en esta consulta, sufragios que serán enviados a Caracas. En tanto, Daniel Sánchez, venezolano residente en la zona, llamó a sus compatriotas a participar de este proceso democrático. El plebiscito consultará si se está de acuerdo o no con la convocatoria para establecer una Asamblea Nacional Constituyente en Venezuela.\n",
      "');\n",
      "insert into noticias(fecha,FKnombre,titulo,texto) values('2017-07-11 09:49:20','biobio','Aprueban compra de 2 camiones recolectores de basura para Puerto Montt\n",
      "','El consejo regional aprobó la compra de dos camiones recolectores de basura para Puerto Montt. Mediante la aprobación de más de 470 millones de pesos, el municipio de Puerto Montt adquirirá dos nuevos camiones recolectores de basura, con lo que se espera mejorar el servicio. También se indicó que los camiones serán administrados por Gestión Ambiente, que es la empresa externa encargada de recolectar los residuos domiciliarios. El Concejal ecologista, Juan Carlos Cuitinho, sostuvo que en primera instancia, esta adquisición no significará una disminución en dinero en el costo total del contrato. El municipio de Puerto Montt ya inició el proceso de re-licitación, el que está en el portal de compras públicas y se apunta a que el monto será superior al de la pasada negociación.\n",
      "');\n",
      "insert into noticias(fecha,FKnombre,titulo,texto) values('2017-05-07 10:07:37','biobio','Carabinero habría disparado a su pareja en hotel de Puerto Montt\n",
      "','La Brigada de Homicidios de la PDI investiga un incidente ocurrido la madrugada de este domingo en el Hotel Vicente Costanera de Puerto Montt. El general de la Décima Zona de Carabineros, Jorge Karachón, confirmó que en el hecho estuvo involucrado un funcionario de la institución. Según los primeros antecedentes, un cabo primero de la Quinta Comisaría de Puerto Montt habría disparado en contra de su pareja tras una discusión y luego se habría autoinferido un disparo en la cabeza. Tanto el hombre como la mujer fueron trasladados por personal del SAMU hasta el Hospital Regional de Puerto Montt. Jorge Karachón señaló que se dispuso un sumario administrativo interno, que se realizará de forma paralela a la indagatoria de la PDI, de acuerdo a lo resuelto por la Fiscalía.\n",
      "');\n",
      "insert into noticias(fecha,FKnombre,titulo,texto) values('2017-11-01 00:33:45','biobio','En Puerto Montt y Alerce concentrarán esfuerzos para prevenir incendios forestales\n",
      "','En Puerto Montt y Alerce se concentrarán los esfuerzos para prevenir los incendios forestales. La Corporación Nacional Forestal (Conaf) reconoció puntos críticos por la gran presencia de Chacay en la capital regional. Más recurso humano y logístico e incrementar la construcción de cortafuegos son algunas de las medidas adoptadas para la prevención de incendios forestales durante la temporada estival. El director de Conaf, Luis Infante, expuso que Puerto Montt está dentro de las ciudades más vulnerables en cuanto a la ocurrencia de incendios forestales, puntualizando que esto se debe a que está rodeada por el Chacay. El director de la Onemi, Alejandro Vergues, llamó a la ciudadanía a denunciar cuando vean personas con intenciones de iniciar un incendio. Las autoridades entregaron datos estadísticos sobre la ocurrencia de incendios en Puerto Montt, indicándose que en los últimos 5 años, más de 2 mil 300 hectáreas de vegetación fueron consumidas.\n",
      "');\n",
      "insert into noticias(fecha,FKnombre,titulo,texto) values('2017-03-16 08:41:12','biobio','Balacera en sector Mirasoles de Puerto Montt dejó dos personas lesionadas\n",
      "','Dos lesionados dejó balacera en el sector Mirasol en Puerto Montt. Los heridos se mantienen internados en el hospital regional. Los hechos ocurrieron cuando dos hombres que se encontraban al interior de un auto estacionado en calle Imprenta con Los Notros, fueron atacados con armas de fuego por un grupo de cuatro desconocidos que se movilizaban en otro vehículo. El teniente de carabineros, Carlos Sandoval, de la séptima comisaría de Puerto Montt, señaló que producto del ataque, las dos personas que se encontraban al interior del auto estacionado, resultaron con lesiones de carácter reservado, siendo internadas en el Hospital Regional. El fiscal de turno, Mario de La Fuente, instruyó la concurrencia de la Brigada de Homicidios de la Policía de Investigaciones, para realizar las pericias correspondientes en el sitio del suceso, siendo ésta, la segunda balacera que se registra en menos de una semana en Puerto Montt.\n",
      "');\n",
      "insert into noticias(fecha,FKnombre,titulo,texto) values('2017-02-07 02:10:28','biobio','Locatarios de Angelmó registran baja en las ventas y lo atribuyen a incendios forestales\n",
      "','Los locatarios han sufrido una fuerte baja e sus ventas en el mes de enero, atribuyéndolo, en parte, a los incendios forestales que han afectado al país. De acuerdo a los locatarios, los incendios que afectan a la zona centro-sur del país generan cierto temor en las personas que frecuentemente visitan la región, dado que muchos de los lugares afectados son un paso obligado para llegar a Puerto Montt. Rosa González, Presidenta del sindicato de Locatarios de Angelmó, manifestó que la gente que visita el lugar, consume los productos con confianza, dejando en el pasado el miedo de comer mariscos por marea roja. El Presidente de la Cámara de Comercio de Puerto Montt, Carlos Stange, realizó un llamado a preferir el consumo en locales establecidos. Las autoridades han señalado que se han realizado mesas de trabajo con el objeto de potenciar este lugar turístico considerando lo valioso del sector para Puerto Montt.\n",
      "');\n",
      "insert into noticias(fecha,FKnombre,titulo,texto) values('2017-04-24 12:57:52','adnradiochile','Deportes Puerto Montt en crisis por sueldos impagos | Deportes | Radio ADN 91.7\n",
      "','Síguenos en: Deportes Puerto Montt. Foto: Agencia Uno Una radical medida decidieron tomar los jugadores de Puerto Montt ante los sueldos impagos del plantel. Jonathan \"Mariachi\" Núñez, volante del cuadro salmonero, informó en su cuenta de Twitter que a partir de este lunes los futbolistas determinaron no entrenar. Tampoco viajarán rumbo a la IV región para enfrentar a La Serena hasta que se cancele la deuda que tiene la dirigencia con ellos, que corresponde al 50 por ciento del sueldo del mes de marzo y la totalidad de los arriendos. De negarse a disputar el partido contra el elenco papayero, Puerto Montt se perdería la última fecha de la Primera B. Todos unidos ⚽️🐬😩 pic.twitter.com/V2j513Zc3j\n",
      "');\n"
     ]
    },
    {
     "ename": "DatabaseError",
     "evalue": "1366 (HY000): Incorrect string value: '\\xF0\\x9F\\x90\\xAC\\xF0\\x9F...' for column 'texto' at row 1",
     "output_type": "error",
     "traceback": [
      "\u001b[0;31m---------------------------------------------------------------------------\u001b[0m",
      "\u001b[0;31mDatabaseError\u001b[0m                             Traceback (most recent call last)",
      "\u001b[0;32m<ipython-input-66-7fb76d463774>\u001b[0m in \u001b[0;36m<module>\u001b[0;34m()\u001b[0m\n\u001b[1;32m     21\u001b[0m         \u001b[0mQuery\u001b[0m\u001b[0;34m=\u001b[0m\u001b[0;34m\"insert into noticias(fecha,FKnombre,titulo,texto) values('\"\u001b[0m\u001b[0;34m+\u001b[0m\u001b[0mfecha\u001b[0m\u001b[0;34m+\u001b[0m\u001b[0;34m\"','\"\u001b[0m\u001b[0;34m+\u001b[0m\u001b[0mnombre\u001b[0m\u001b[0;34m+\u001b[0m\u001b[0;34m\"','\"\u001b[0m\u001b[0;34m+\u001b[0m\u001b[0mtitulo\u001b[0m\u001b[0;34m+\u001b[0m\u001b[0;34m\"','\"\u001b[0m\u001b[0;34m+\u001b[0m\u001b[0mtexto\u001b[0m\u001b[0;34m+\u001b[0m\u001b[0;34m\"');\"\u001b[0m\u001b[0;34m\u001b[0m\u001b[0m\n\u001b[1;32m     22\u001b[0m         \u001b[0mprint\u001b[0m\u001b[0;34m(\u001b[0m\u001b[0mQuery\u001b[0m\u001b[0;34m)\u001b[0m\u001b[0;34m;\u001b[0m\u001b[0;34m\u001b[0m\u001b[0m\n\u001b[0;32m---> 23\u001b[0;31m         \u001b[0mcursor\u001b[0m\u001b[0;34m.\u001b[0m\u001b[0mexecute\u001b[0m\u001b[0;34m(\u001b[0m\u001b[0mQuery\u001b[0m\u001b[0;34m)\u001b[0m\u001b[0;34m\u001b[0m\u001b[0m\n\u001b[0m\u001b[1;32m     24\u001b[0m         \u001b[0ma\u001b[0m\u001b[0;34m=\u001b[0m\u001b[0;36m0\u001b[0m\u001b[0;34m\u001b[0m\u001b[0m\n\u001b[1;32m     25\u001b[0m         \u001b[0mtexto\u001b[0m\u001b[0;34m=\u001b[0m\u001b[0;34m\"\"\u001b[0m\u001b[0;34m\u001b[0m\u001b[0m\n",
      "\u001b[0;32m/usr/local/lib/python3.5/dist-packages/mysql/connector/cursor.py\u001b[0m in \u001b[0;36mexecute\u001b[0;34m(self, operation, params, multi)\u001b[0m\n\u001b[1;32m    557\u001b[0m         \u001b[0;32melse\u001b[0m\u001b[0;34m:\u001b[0m\u001b[0;34m\u001b[0m\u001b[0m\n\u001b[1;32m    558\u001b[0m             \u001b[0;32mtry\u001b[0m\u001b[0;34m:\u001b[0m\u001b[0;34m\u001b[0m\u001b[0m\n\u001b[0;32m--> 559\u001b[0;31m                 \u001b[0mself\u001b[0m\u001b[0;34m.\u001b[0m\u001b[0m_handle_result\u001b[0m\u001b[0;34m(\u001b[0m\u001b[0mself\u001b[0m\u001b[0;34m.\u001b[0m\u001b[0m_connection\u001b[0m\u001b[0;34m.\u001b[0m\u001b[0mcmd_query\u001b[0m\u001b[0;34m(\u001b[0m\u001b[0mstmt\u001b[0m\u001b[0;34m)\u001b[0m\u001b[0;34m)\u001b[0m\u001b[0;34m\u001b[0m\u001b[0m\n\u001b[0m\u001b[1;32m    560\u001b[0m             \u001b[0;32mexcept\u001b[0m \u001b[0merrors\u001b[0m\u001b[0;34m.\u001b[0m\u001b[0mInterfaceError\u001b[0m\u001b[0;34m:\u001b[0m\u001b[0;34m\u001b[0m\u001b[0m\n\u001b[1;32m    561\u001b[0m                 \u001b[0;32mif\u001b[0m \u001b[0mself\u001b[0m\u001b[0;34m.\u001b[0m\u001b[0m_connection\u001b[0m\u001b[0;34m.\u001b[0m\u001b[0m_have_next_result\u001b[0m\u001b[0;34m:\u001b[0m  \u001b[0;31m# pylint: disable=W0212\u001b[0m\u001b[0;34m\u001b[0m\u001b[0m\n",
      "\u001b[0;32m/usr/local/lib/python3.5/dist-packages/mysql/connector/connection.py\u001b[0m in \u001b[0;36mcmd_query\u001b[0;34m(self, query, raw, buffered, raw_as_string)\u001b[0m\n\u001b[1;32m    492\u001b[0m         \u001b[0;32mif\u001b[0m \u001b[0;32mnot\u001b[0m \u001b[0misinstance\u001b[0m\u001b[0;34m(\u001b[0m\u001b[0mquery\u001b[0m\u001b[0;34m,\u001b[0m \u001b[0mbytes\u001b[0m\u001b[0;34m)\u001b[0m\u001b[0;34m:\u001b[0m\u001b[0;34m\u001b[0m\u001b[0m\n\u001b[1;32m    493\u001b[0m             \u001b[0mquery\u001b[0m \u001b[0;34m=\u001b[0m \u001b[0mquery\u001b[0m\u001b[0;34m.\u001b[0m\u001b[0mencode\u001b[0m\u001b[0;34m(\u001b[0m\u001b[0;34m'utf-8'\u001b[0m\u001b[0;34m)\u001b[0m\u001b[0;34m\u001b[0m\u001b[0m\n\u001b[0;32m--> 494\u001b[0;31m         \u001b[0mresult\u001b[0m \u001b[0;34m=\u001b[0m \u001b[0mself\u001b[0m\u001b[0;34m.\u001b[0m\u001b[0m_handle_result\u001b[0m\u001b[0;34m(\u001b[0m\u001b[0mself\u001b[0m\u001b[0;34m.\u001b[0m\u001b[0m_send_cmd\u001b[0m\u001b[0;34m(\u001b[0m\u001b[0mServerCmd\u001b[0m\u001b[0;34m.\u001b[0m\u001b[0mQUERY\u001b[0m\u001b[0;34m,\u001b[0m \u001b[0mquery\u001b[0m\u001b[0;34m)\u001b[0m\u001b[0;34m)\u001b[0m\u001b[0;34m\u001b[0m\u001b[0m\n\u001b[0m\u001b[1;32m    495\u001b[0m \u001b[0;34m\u001b[0m\u001b[0m\n\u001b[1;32m    496\u001b[0m         \u001b[0;32mif\u001b[0m \u001b[0mself\u001b[0m\u001b[0;34m.\u001b[0m\u001b[0m_have_next_result\u001b[0m\u001b[0;34m:\u001b[0m\u001b[0;34m\u001b[0m\u001b[0m\n",
      "\u001b[0;32m/usr/local/lib/python3.5/dist-packages/mysql/connector/connection.py\u001b[0m in \u001b[0;36m_handle_result\u001b[0;34m(self, packet)\u001b[0m\n\u001b[1;32m    394\u001b[0m             \u001b[0;32mreturn\u001b[0m \u001b[0mself\u001b[0m\u001b[0;34m.\u001b[0m\u001b[0m_handle_eof\u001b[0m\u001b[0;34m(\u001b[0m\u001b[0mpacket\u001b[0m\u001b[0;34m)\u001b[0m\u001b[0;34m\u001b[0m\u001b[0m\n\u001b[1;32m    395\u001b[0m         \u001b[0;32melif\u001b[0m \u001b[0mpacket\u001b[0m\u001b[0;34m[\u001b[0m\u001b[0;36m4\u001b[0m\u001b[0;34m]\u001b[0m \u001b[0;34m==\u001b[0m \u001b[0;36m255\u001b[0m\u001b[0;34m:\u001b[0m\u001b[0;34m\u001b[0m\u001b[0m\n\u001b[0;32m--> 396\u001b[0;31m             \u001b[0;32mraise\u001b[0m \u001b[0merrors\u001b[0m\u001b[0;34m.\u001b[0m\u001b[0mget_exception\u001b[0m\u001b[0;34m(\u001b[0m\u001b[0mpacket\u001b[0m\u001b[0;34m)\u001b[0m\u001b[0;34m\u001b[0m\u001b[0m\n\u001b[0m\u001b[1;32m    397\u001b[0m \u001b[0;34m\u001b[0m\u001b[0m\n\u001b[1;32m    398\u001b[0m         \u001b[0;31m# We have a text result set\u001b[0m\u001b[0;34m\u001b[0m\u001b[0;34m\u001b[0m\u001b[0m\n",
      "\u001b[0;31mDatabaseError\u001b[0m: 1366 (HY000): Incorrect string value: '\\xF0\\x9F\\x90\\xAC\\xF0\\x9F...' for column 'texto' at row 1"
     ]
    }
   ],
   "source": [
    "import csv, operator\n",
    "archivo = open(\"noticias.txt\",\"r\")\n",
    "a=0\n",
    "fecha=\"\"\n",
    "nombre=\"\"\n",
    "texto=\"\"\n",
    "titulo=\"\"\n",
    "for linea in archivo.readlines():\n",
    "    if(a==0):\n",
    "        fecha=linea.replace(\"\\n\",\"\")\n",
    "        a+=1\n",
    "    elif(a==1):\n",
    "        nombre=linea.replace(\" \",\"\").replace(\"\\n\",\"\")[0:29]\n",
    "        a+=1\n",
    "    elif(a==2):\n",
    "        titulo=linea\n",
    "        a+=1\n",
    "    elif(a==3 and linea[0]!=\"-\" and linea[1]!=\"-\" and linea[2]!=\"-\"):\n",
    "        texto=texto+linea\n",
    "    else:\n",
    "        Query=\"insert into noticias(fecha,FKnombre,titulo,texto) values('\"+fecha+\"','\"+nombre+\"','\"+titulo+\"','\"+texto+\"');\"\n",
    "        print(Query);\n",
    "        cursor.execute(Query)\n",
    "        a=0\n",
    "        texto=\"\"\n",
    "archivo.close()\n"
   ]
  },
  {
   "cell_type": "markdown",
   "metadata": {},
   "source": [
    "# 4. Consultar la base de datos"
   ]
  },
  {
   "cell_type": "markdown",
   "metadata": {},
   "source": [
    "Listar los medios de prensa en Chile ordenado según su número de followers en Twitter."
   ]
  },
  {
   "cell_type": "code",
   "execution_count": 50,
   "metadata": {},
   "outputs": [],
   "source": [
    "cursor.execute(\"SELECT PKnombre,nfollowers FROM mediosprensa ORDER BY nfollowers DESC\")\n"
   ]
  },
  {
   "cell_type": "raw",
   "metadata": {},
   "source": [
    "Contar los dueños de medios de prensa en Chile."
   ]
  },
  {
   "cell_type": "code",
   "execution_count": 67,
   "metadata": {
    "scrolled": true
   },
   "outputs": [],
   "source": [
    "cursor.execute(\"SELECT COUNT(DISTINCT dueno) FROM mediosprensa\")"
   ]
  },
  {
   "cell_type": "markdown",
   "metadata": {},
   "source": [
    "Contar cuantes medios de prensa posee cada dueño."
   ]
  },
  {
   "cell_type": "code",
   "execution_count": 74,
   "metadata": {
    "scrolled": true
   },
   "outputs": [],
   "source": [
    "cursor.execute(\"SELECT dueno, COUNT(*) as PKnombre FROM mediosprensa GROUP BY dueno\")"
   ]
  },
  {
   "cell_type": "markdown",
   "metadata": {},
   "source": [
    "Mostrar los últimos 10 títulos de noticias del medio \"La Tercera\""
   ]
  },
  {
   "cell_type": "code",
   "execution_count": null,
   "metadata": {
    "scrolled": true
   },
   "outputs": [],
   "source": [
    "cursor.execute(\"SELECT titulo FROM noticias WHERE FKnombre = 'la tercera' LIMIT 10\")"
   ]
  },
  {
   "cell_type": "markdown",
   "metadata": {},
   "source": [
    "Mostrar los nombre de medios y los títulos en los cuales aparacen la palabra \"Valdivia\"."
   ]
  },
  {
   "cell_type": "code",
   "execution_count": null,
   "metadata": {},
   "outputs": [],
   "source": [
    "cursor.execute(\"SELECT FKnombre, titulo FROM noticias WHERE texto LIKE 'Valdivia'\")"
   ]
  },
  {
   "cell_type": "markdown",
   "metadata": {},
   "source": [
    "Por cada medio, mostrar el número de títulos en los cuales aparecen la palabra \"Puerto Montt\"."
   ]
  },
  {
   "cell_type": "code",
   "execution_count": null,
   "metadata": {},
   "outputs": [],
   "source": [
    "cursor.execute(\"SELECT COUT(titulo) FROM noticias WHERE titulo LIKE 'la tercera'\")"
   ]
  }
 ],
 "metadata": {
  "kernelspec": {
   "display_name": "Python 3",
   "language": "python",
   "name": "python3"
  },
  "language_info": {
   "codemirror_mode": {
    "name": "ipython",
    "version": 3
   },
   "file_extension": ".py",
   "mimetype": "text/x-python",
   "name": "python",
   "nbconvert_exporter": "python",
   "pygments_lexer": "ipython3",
   "version": "3.5.2"
  }
 },
 "nbformat": 4,
 "nbformat_minor": 2
}
