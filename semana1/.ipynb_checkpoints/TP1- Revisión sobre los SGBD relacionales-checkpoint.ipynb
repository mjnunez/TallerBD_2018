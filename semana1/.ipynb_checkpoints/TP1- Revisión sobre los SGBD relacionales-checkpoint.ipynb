{
 "cells": [
  {
   "cell_type": "markdown",
   "metadata": {},
   "source": [
    "# TP1- Revision sobre los SGBD relacionales"
   ]
  },
  {
   "cell_type": "markdown",
   "metadata": {},
   "source": [
    "Para revisar algunos conceptos de los SGBD relacionales (en particular el modelo relacional y el lenguaje SQL), vamos a crear una pequeña Base de Datos relacional desde un programa en Python y a partir de datos que se encuentran en varios archivos textos.\n",
    "\n",
    "La base de datos que queremos construir está representada por el modelo Entidad-Asociación siguiente:"
   ]
  },
  {
   "cell_type": "markdown",
   "metadata": {},
   "source": [
    "<img src=\"modeloEA-1.png\">"
   ]
  },
  {
   "cell_type": "markdown",
   "metadata": {},
   "source": [
    "## 1. Transformación del Modelo Entidad-Asociación hacia Modelo Relacional\n",
    "\n",
    "Proponer un modelo relacional que corresponde al modelo Entidad-Asociación."
   ]
  },
  {
   "cell_type": "markdown",
   "metadata": {},
   "source": [
    "mediosprensa (PKnombre, dueño, nfollowers)\n",
    "noticias (PKID, FKnombre, titulo, texto, fecha)"
   ]
  },
  {
   "cell_type": "markdown",
   "metadata": {},
   "source": [
    "## 2. Crear la estructura de la base de datos desde un programa Python"
   ]
  },
  {
   "cell_type": "markdown",
   "metadata": {},
   "source": [
    "### 2.1 Conectarse a MySQL desde Python"
   ]
  },
  {
   "cell_type": "code",
   "execution_count": 1,
   "metadata": {},
   "outputs": [],
   "source": [
    "import mysql.connector\n",
    "\n",
    "cnx = mysql.connector.connect(user='root', password='root',\n",
    "                              host='127.0.0.1')\n",
    "#cnx.close()"
   ]
  },
  {
   "cell_type": "markdown",
   "metadata": {},
   "source": [
    "### 2.2 Crear las tablas"
   ]
  },
  {
   "cell_type": "code",
   "execution_count": 9,
   "metadata": {},
   "outputs": [],
   "source": [
    "from mysql.connector import errorcode\n",
    "\n",
    "DB_NAME = 'TP1'\n",
    "\n",
    "TABLES = {}\n",
    "TABLES['mediosprensa'] = (\n",
    "    \"CREATE TABLE `mediosprensa` (\"\n",
    "    \"  `PKnombre` varchar(20) NOT NULL,\"\n",
    "    \"  `dueno` varchar(200) NOT NULL,\"\n",
    "    \"  `nfollowers` int(11) NOT NULL,\"\n",
    "    \"  PRIMARY KEY (`PKnombre`)\"\n",
    "    \")\" )\n",
    "\n",
    "TABLES['noticias'] = (\n",
    "    \"CREATE TABLE `noticias` (\"\n",
    "    \"  `PKID` int(4) NOT NULL,\"\n",
    "    \"  `FKnombre` varchar(20) NOT NULL,\"\n",
    "    \"  `titulo` varchar(20) NOT NULL,\"\n",
    "    \"  `texto` text(500) NOT NULL,\"\n",
    "    \"  `fecha` date NOT NULL,\"\n",
    "    \"  PRIMARY KEY (`PKID`),\"\n",
    "    \"  CONSTRAINT `nombre` FOREIGN KEY (`FKnombre`) \"\n",
    "    \"     REFERENCES `mediosprensa` (`PKnombre`) ON DELETE CASCADE\"\n",
    "    \")\")\n"
   ]
  },
  {
   "cell_type": "code",
   "execution_count": 3,
   "metadata": {},
   "outputs": [],
   "source": [
    "cursor = cnx.cursor()\n",
    "#cursor.execute(\"CREATE DATABASE {} DEFAULT CHARACTER SET 'utf8'\".format(DB_NAME))\n",
    "cnx.database = DB_NAME\n"
   ]
  },
  {
   "cell_type": "code",
   "execution_count": null,
   "metadata": {},
   "outputs": [],
   "source": []
  },
  {
   "cell_type": "code",
   "execution_count": null,
   "metadata": {},
   "outputs": [],
   "source": [
    "TABLES"
   ]
  },
  {
   "cell_type": "code",
   "execution_count": null,
   "metadata": {},
   "outputs": [],
   "source": [
    "\n",
    "\n",
    "cnx.database = DB_NAME\n",
    "cursor = cnx.cursor()"
   ]
  },
  {
   "cell_type": "code",
   "execution_count": 4,
   "metadata": {},
   "outputs": [
    {
     "name": "stdout",
     "output_type": "stream",
     "text": [
      "Creating table noticias: already exists.\n",
      "Creating table mediosprensa: already exists.\n"
     ]
    }
   ],
   "source": [
    "for name, ddl in TABLES.items():\n",
    "    try:\n",
    "        print(\"Creating table {}: \".format(name), end='')\n",
    "        cursor.execute(ddl)\n",
    "    except mysql.connector.Error as err:\n",
    "        if err.errno == errorcode.ER_TABLE_EXISTS_ERROR:\n",
    "            print(\"already exists.\")\n",
    "        else:\n",
    "            print(err.msg)\n",
    "    else:\n",
    "        print(\"OK\")\n"
   ]
  },
  {
   "cell_type": "markdown",
   "metadata": {},
   "source": [
    "# 3. Insertar los datos en la base de datos"
   ]
  },
  {
   "cell_type": "markdown",
   "metadata": {},
   "source": [
    "## 3.1 Leer los archivos textos"
   ]
  },
  {
   "cell_type": "code",
   "execution_count": 5,
   "metadata": {
    "scrolled": false
   },
   "outputs": [
    {
     "name": "stdout",
     "output_type": "stream",
     "text": [
      "24HorasTVN Estado Chileno 3286603\n",
      "TVN Estado Chileno 2910624\n",
      "T13 Grupo Canal 13 2869408\n",
      "CNNChile Time Warner 2814705\n",
      "biobio BIO-BIO comunicaciones 2756031\n",
      "Cooperativa Compañía Chilena de Comunicaciones 2638045\n",
      "canal13 Grupo Luksic 2089537\n",
      "latercera Grupo Copesa 1849215\n",
      "Emol El Mercurio S.A.P. 1805524\n",
      "adnradiochile Ibero Americana Radio Chile 1660965\n",
      "thecliniccl Ediciones y Publicaciones Bobby S.A.  1637257\n",
      "elmostrador La Plaza S.A. 1533717\n",
      "chilevision  Time Warner 1264464\n",
      "terraChile Terra Networks Chile S.A. 1190512\n",
      "Mega Bethia 1016622\n",
      "ahoranoticiasAN Bethia 1012851\n",
      "ciper Fundacion CIPER- Grupo Copesa 902201\n",
      "PublimetroChile Metro International 876749\n",
      "lacuarta Grupo Copesa 763174\n",
      "deportes13cl Grupo Luksic 610516\n",
      "La_Segunda El Mercurio S.A.P. 563406\n",
      "LaRedTV Albavisión (MX) 531088\n",
      "el_dinamo Ediciones Giro País SpA 418425\n",
      "chvdeportes Time Warner 351803\n",
      "nacioncl Empresa Periodistica La Nación S.A. 318346\n",
      "revistaQP Grupo Copesa 298495\n",
      "DiarioLaHora Grupo Copesa 296059\n",
      "El_Ciudadano Sociedad Periodística El Ciudadano 277703\n",
      "CadenaChile Vocación-Comunitaria 277201\n",
      "ElGraficoChile Metro International 268826\n",
      "difamadores Eduardo Mardones 248538\n",
      "biobiodeportes Grupo Mochiatti 235075\n",
      "Emol_Deportes El Mercurio S.A.P. 220974\n",
      "LaSerenaOnline La Serena Online 212759\n",
      "soychilecl El Mercurio S.A.P. 208424\n",
      "Dfinanciero Grupo Claro 133828\n",
      "elquintopoder Fundacion Democracia y Desarrollo 130323\n",
      "mercuriovalpo El Mercurio S.A.P 129761\n",
      "tvn_deportes Estado Chileno 128555\n",
      "GlamoramaCL Grupo Copesa 121128\n",
      "eldia_cl Diario ELDIA 106078\n",
      "ElPeriscopioCL Trayectos Agencia de Comunicaciones Ltda 105532\n",
      "elobservatodo Grupo Mi Voz Red de Diarios Ciudadanos 99838\n",
      "laterceracom Grupo Copesa 96775\n",
      "elsurcl  Diario El Sur S.A 95662\n",
      "uchileradio Universidad de Chile 94999\n",
      "soyconcepcion El Mercurio S.A.P 94205\n",
      "RadioPudahuel Ibero Americana Radio Chile 88523\n",
      "biobiotv Grupo Mosciatti 88475\n",
      "soyvalparaiso El Mercurio S.A.P 84203\n",
      "AustralTemuco El Mercurio S.A.P 83479\n",
      "hoyxhoycl El Mercurio S.A.P. 83193\n",
      "RadioDuna Grupo Copesa 82363\n",
      "radiozero977 Grupo Copesa 80399\n",
      "revistacapital Grupo Claro 80101\n",
      "rvfradiopopular Centro Cultural de Comunicación y Educación Radiofónica ''Chasqui'' 79900\n",
      "chv_noticias Time Warner 77309\n",
      "eldesconcierto Ediciones y Publicaciones El Buen Aire S.A. 74403\n",
      "estadonacional  Estado Chileno 68410\n",
      "EmolTV El Mercurio S.A.P. 67772\n",
      "RADIOPALOMAFM Núcleo de emisoras Paloma 67531\n",
      "RedMiVoz Grupo Mi Voz Red de Diarios Ciudadanos 67071\n",
      "AgriculturaFM Sociedad Nacional de Agricultura 65861\n",
      "pulso_tw Grupo Copesa 64516\n",
      "Estrategiacl Editorial Gestion 61664\n",
      "laestrellavalpo El Mercurio S.A.P 61280\n",
      "TVChileTVN Estado Chileno 55816\n",
      "FMConquistador Comunicaciones C Y V S A  55301\n",
      "prensaopal  opal press 53500\n",
      "RevistaCosas Editorial Tiempo Presente Ltda. 52971\n",
      "elliberocl Sociedad Periodistica El Libero S.A. 50472\n",
      "Ferplei Betazeta Networks S.A. 49410\n",
      "EYN_ELMERCURIO El Mercurio S.A.P. 45979\n",
      "araucanianews Araucanía Noticias 45341\n",
      "Araucaniatv AraucaníaTV 45230\n",
      "RedMaule Merelec SpA  44830\n",
      "radiolaclave Miguel Nasur 42733\n",
      "MauleNoticias N.E 41294\n",
      "ElPeriodista El Periodista S.A 40308\n",
      "RedBiobio Merelec SpA  38855\n",
      "diarioelcentro Empresa Periodística El Centro S.A. 38676\n",
      "ASChile  Grupo Prisa España 37956\n",
      "ucv_tv Pontificia Universidad Católica de Valparaiso 36488\n",
      "MQLTV Producciones y Asesorías Gou Infotaiment Limitada 35153\n",
      "maulee Red de medios de comunicación digital Portales Regionales 34703\n",
      "ladiscusioncl La Discusión SA 34062\n",
      "RadioNuble Sociedad de Inversiones Vaccaro Collao e Hijos Ltda. 33040\n",
      "mercurioafta El Mercurio S.A.P 32817\n",
      "vlanoticia Vivimos la noticia 32516\n",
      "elrancaguino Inversiones y Publicaciones Comunidades Ciudadanas S. A. 32375\n",
      "Diarioconce UdeC - Grupo Copesa 31910\n",
      "soyarica El Mercurio S.A.P 31905\n",
      "ellanquihue El Mercurio S.A.P.  31138\n",
      "elmartutino Grupo Mi Voz Red de Diarios Ciudadanos 30291\n",
      "CronicaChillan Diario El Sur S.A. 29925\n",
      "laestrellaiqq El Mercurio S.A.P. 28825\n",
      "pinguinodiario Patagonica Publicaciones S.A. 27526\n",
      "radiosantamaria Red de Emisoras Madripo 26697\n",
      "cronicacurico Sociedad periodistica Crónica noticias SPA 26394\n",
      "elnortero Grupo Mi Voz Red de Diarios Ciudadanos 26079\n",
      "AconcaguaNews Aconcagua News 25939\n",
      "soyantofagasta  El Mercurio S.A.P 25765\n",
      "soytemuco El Mercurio S.A.P. 25460\n",
      "Mapuexpress Colectivo de Comunicacion Mapuche Mapuexpress 25253\n",
      "eltipografo El Tipógrafo SPA 25159\n",
      "eo_enlinea Empresa Periodística El Observador Ltda 25099\n",
      "austral_osorno El Mercurio S.A.P 24627\n",
      "Azkintuwe Pedro Cayuqueo, Enama 24625\n",
      "TVNRedMaule Estado Chileno 24405\n",
      "estrellaconce El Mercurio S.A.P. 24097\n",
      "eldefinido El Definido 23590\n",
      "msncl Microsoft Corporation.  23353\n",
      "TVU_television  Holding Octava Comunicaciones S.A. 22604\n",
      "tvmaulinos Tv maulinos 21995\n",
      "Red_OHiggins Merelec SpA  21526\n",
      "LaTerceraTV Grupo Copesa 21373\n",
      "diarioafta Consorcio Periodístico El Norte SpA 20984\n",
      "RadioSago Sociedad Agrícola y Ganadera de Osorno 20928\n",
      "soyiquique El Mercurio S.A.P 20612\n",
      "ChillanOnline Chillan Noticias 20581\n",
      "Diario_Pyme Metro International 20569\n",
      "radiochiloe Velásquez Hnos. y Cía. Ltda. 20435\n",
      "chiloealdia Chiloe Al día 20398\n",
      "chillanactivo Chillan Activo 20158\n",
      "Clave9cl Clave9 20120\n",
      "emol_magazine El Mercurio S.A.P. 19538\n",
      "laotravoz Empresa Periodística La Nación S.A. 19422\n",
      "RadioPolar Organización Comercial Radio Polar Ltda. 19411\n",
      "austral_losrios El Mercurio S.A.P 19382\n",
      "elrancahuaso Grupo Mi Voz Red de Diarios Ciudadanos 19298\n",
      "ElSembrador1047 Obispado de Chillan 18480\n",
      "Elperiodicocl El Periodico 18422\n",
      "Osornonews N.E 18272\n",
      "tentos Elyon Comunicaciones 18250\n",
      "LaPrensAustral Empresa de Publicaciones La Prensa Austral S.A. 18098\n",
      "cambio21cl Sociedad Periodística Cambio S.A. 17593\n",
      "radiocondell Benjamín González 17486\n",
      "estrellachiloe El Mercurio S.A.P. 17152\n",
      "soypuertomontt El Mercurio S.A.P 17076\n",
      "elmorrocotudo Grupo Mi Voz Red de Diarios Ciudadanos 17008\n",
      "LaProvinciaCL N.E 16572\n",
      "soyosorno El Mercurio S.A.P 16490\n",
      "NUBLEONLINE_ N.E. 16478\n",
      "EnLineaMaule En linea maule 16320\n",
      "red_coquimbo Merelec SpA  16225\n",
      "sitiocero Comunidad Sitio Cero 16096\n",
      "rioenlinea Rioenlinea 16029\n",
      "RNuevoMundo Compañía de Radio y TV Nuevo Mundo S.A 15860\n",
      "RedValparaiso Merelec SpA  15649\n",
      "elepicentro Consorcio Periodístico El Epicentro S.A 15595\n",
      "RedAraucania Merelec SpA  15559\n",
      "diarioatacama El Mercurio S.A.P 15432\n",
      "RedAntofagasta Merelec SpA  15165\n",
      "ElBoyaldia Grupo Mi Voz Red de Diarios Ciudadanos 14868\n",
      "elrepuertero Grupo Mi Voz Red de Diarios Ciudadanos 14749\n",
      "RadioEstacion1 Estación 1 14717\n",
      "soychiloe El Mercurio S.A.P 14693\n",
      "estrella_antofa El Mercurio S.A.P. 14297\n",
      "palabranoticia Ibero Americana Radio Chile 14230\n",
      "elsoldeiquique El sol de Iquique 14104\n",
      "soyvaldiviacl El Mercurio S.A.P. 13903\n",
      "el_vacanudo Grupo Mi Voz Red de Diarios Ciudadanos 13862\n",
      "soychillan El Mercurio S.A.P 13667\n",
      "elconcecuente Grupo Mi Voz Red de Diarios Ciudadanos 13639\n",
      "IquiqueRadioCL Iquique Radio 13533\n",
      "laprensacurico Empresa Periodística Curicó Ltda. 13507\n",
      "elnaveghable Grupo Mi Voz Red de Diarios Ciudadanos 12863\n",
      "talcanoticias N.E 12756\n",
      "chanarcillo Chañarcillo 12145\n",
      "elovallino  Merelec SpA  12085\n",
      "PrensaChiloe Prensa Chiloe 11846\n",
      "soysanantonio El Mercurio S.A.P 11733\n",
      "elaconcagua El Aconcagua 11529\n",
      "lidersanantonio El Mercurio S.A.P 11429\n",
      "el_serenense Red de Diarios Comunales Sociedad Limitada 11354\n",
      "laopinon Inversiones y Publicaciones Comunidades Ciudadanas S.A. 10722\n",
      "latribunacl Empresa Periodística Bío-Bío Ltda. 10548\n",
      "redloslagos Merelec SpA  10470\n",
      "fundacionREM Fundación Radio Estrella del Mar 10244\n",
      "radioquellon  Radio Quellon 10113\n",
      "InetTvDigital  Inet TV 10038\n",
      "ITVnoticias ITV Patagonia Ltda. 9624\n",
      "soycalama El Mercurio S.A.P 9621\n",
      "ELCLARINDECHILE Fundación Presidente Allende 9595\n",
      "DiarioPenquista Penquista 9550\n",
      "Diarioenaccion  Diario en Acción 9547\n",
      "diarioelcoqbano Red de Diarios Comunales Sociedad Limitada 9432\n",
      "soycopiapo El Mercurio S.A.P 9255\n",
      "rsumen Resumen 9061\n",
      "DigitalFMChile El Mercurio S.A.P. 8823\n",
      "elmagallanews Grupo Mi Voz Red de Diarios Ciudadanos 8136\n",
      "PutaendoInforma Putaendo Informa 8031\n",
      "DiarioOvalleHoy SOCIEDAD PERIODÍSTICA BANIC Y LANCELLOTTI LTDA 7834\n",
      "ddivisadero El Divisadero 7757\n",
      "redatacama Merelec SpA  7574\n",
      "RedlosRios Merelec SpA  7546\n",
      "soyquillota El Mercurio S.A.P 7377\n",
      "NorteMinero_CL El Mercurio S.A.P. 7309\n",
      "elsiglochile Partido Comunista de Chile 7024\n",
      "TVCONTIVISION Medios de Television Contivision Limitada 6868\n",
      "EstrelladeArica El Mercurio S.A.P. 6617\n",
      "radiomaxima_fm Radio Máxima 6424\n",
      "diarioeltrabajo El Trabajo 6108\n",
      "VozdelaCosta  Obispado Osorno? 6054\n",
      "elranco El Ranco 5560\n",
      "AQUASocial Grupo Editorial Editec 5373\n",
      "AtacamaNoticias OPEN GROUP COMUNICACIONES LTDA. 5116\n",
      "VTVCanal2 Sociedad de Comunicaciones Salto del Soldado Ltda 5079\n",
      "verdadahoracl Verdad Ahora 5048\n",
      "Elquiglobal CEPT Comunicaciones 4955\n",
      "soytalcahuano El Mercurio S.A.P 4933\n",
      "elqhaydecierto Grupo Mi Voz Red de Diarios Ciudadanos 4898\n",
      "agenciaunochile Agencia Uno 4825\n",
      "osornotvmas Ilustre municipalidad de Osorno 4811\n",
      "pdteIbanez Francisco Pérez 4576\n",
      "DigitalFmAntofa El Mercurio S.A.P 4457\n",
      "radiopudeto Sociedad de Radio y Publicidad San Antonio Ltda. 4419\n",
      "Publimetro_TV Metro International 4414\n",
      "Pagina7Chile Biobio Comunicaciones 4340\n",
      "soyarauco El Mercurio S.A.P 4313\n",
      "dichatoaldia Dichato al Dia 4158\n",
      "NatalesOnLine NOL Periodico 4102\n",
      "soysancarlos El Mercurio S.A.P 4040\n",
      "girovisualtv Giro visual 3960\n",
      "carta_abierta Carta Abierta 3905\n",
      "InforiosCL Noticias Los Rios 3870\n",
      "radioptonatales Sociedad sonido sur 3702\n",
      "Estrella_Toco El Mercurio S.A.P. 3638\n",
      "estrella_loa El Mercurio S.A.P. 3544\n",
      "soycoronel El Mercurio S.A.P 3418\n",
      "verticetv Vértice Comunicaciones 3328\n",
      "RedArica Merelec SpA  3327\n",
      "redcomunales Red de Diarios Comunales 3208\n",
      "ElChelenko El Chelenko Comunicaciones 3188\n",
      "cauquenesnet Cauquenes NET 3177\n",
      "soytome El Mercurio S.A.P 3156\n",
      "elandacollino Red de Diarios Comunales Sociedad Limitada 3115\n",
      "lavozdemaipu La Voz de Maipú 2989\n",
      "elamaule Grupo Mi Voz Red de Diarios Ciudadanos 2949\n",
      "cysradio Sociedad Coronado y Sierpe LTDA. 2800\n",
      "elpaihuanino Red de Diarios Comunales Sociedad Limitada 2698\n",
      "PrimitivosCL Rodrigo Vidal 2574\n",
      "Nacimentanocl Diario Naciemiento 2499\n",
      "Prensamariquina Prensa Mariquina 2333\n",
      "diariosenred Merelec SpA  2298\n",
      "elvicunense Red de Diarios Comunales Sociedad Limitada . 2170\n",
      "DiarioPaillaco  Grupo Diario Sur 2167\n",
      "RReloncavi Sociedad René Salinas Palacios 2119\n",
      "panguipullinoti Panguipulli Noticias 2112\n",
      "la7talca La 7 2044\n",
      "RadioCauquenes Radio Cauquenes 1971\n",
      "Infomariquinacl InfoMariquina 1937\n",
      "CCauqueninoCom El cauquenino 1836\n",
      "elparadiario14 Grupo Mi Voz Red de Diarios Ciudadanos 1789\n",
      "puntofinal_cl Ediciones Punto Final 1673\n",
      "ElAriqueno BS Comunicaciones 1646\n",
      "radionahuelbuta Parroquia San José 1589\n",
      "elmontepatrino Red de Diarios Comunales Sociedad Limitada 1512\n",
      "el_bulnensino El bulnesino 1227\n",
      "elcombarbalino Red de Diarios Comunales Sociedad Limitada 1197\n",
      "el_salamanquino Red de Diarios Comunales Sociedad Limitada 1189\n",
      "FMPULSO FM Pulso 971\n",
      "elhurtadino Red de Diarios Comunales Sociedad Limitada 895\n",
      "CoolTV_Valdivia CoolTV 872\n",
      "laperladelimari Red de Diarios Comunales 751\n",
      "DiarioElComunal Red de Diarios Comunales Sociedad Limitada 668\n",
      "diariodeaysen EL DIARIO DE AYSEN S.A 657\n",
      "elpunitaquino Red de Diarios Comunales Sociedad Limitada . 560\n",
      "elvileno Red de Diarios Comunales Sociedad Limitada . 553\n",
      "elcanelino Red de Diarios Comunales Sociedad Limitada 545\n",
      "elillapelino Red de Diarios Comunales Sociedad Limitada 315\n"
     ]
    }
   ],
   "source": [
    "import csv\n",
    "with open('medios.csv') as csvfile:\n",
    "    reader = csv.DictReader(csvfile)\n",
    "    for row in reader:\n",
    "        print(row['CódigoMedio'], row['PropiedadLegal'], row['FollowersFinAño'])\n",
    "\n",
    "#n = open ('noticias.txt','r')\n",
    "#noticias = n.read()\n",
    "\n",
    "#print(noticias)"
   ]
  },
  {
   "cell_type": "markdown",
   "metadata": {},
   "source": [
    "## 3.2 Leer los archivos textos y insertar los datos"
   ]
  },
  {
   "cell_type": "code",
   "execution_count": 13,
   "metadata": {},
   "outputs": [
    {
     "ename": "KeyError",
     "evalue": "'PKID'",
     "output_type": "error",
     "traceback": [
      "\u001b[0;31m---------------------------------------------------------------------------\u001b[0m",
      "\u001b[0;31mKeyError\u001b[0m                                  Traceback (most recent call last)",
      "\u001b[0;32m<ipython-input-13-6a2b53c872a5>\u001b[0m in \u001b[0;36m<module>\u001b[0;34m()\u001b[0m\n\u001b[1;32m      4\u001b[0m     \u001b[0;32mfor\u001b[0m \u001b[0mrow\u001b[0m \u001b[0;32min\u001b[0m \u001b[0mreader\u001b[0m\u001b[0;34m:\u001b[0m\u001b[0;34m\u001b[0m\u001b[0m\n\u001b[1;32m      5\u001b[0m         \u001b[0;31m#print(row['CódigoMedio'], row['PropiedadLegal'], row['FollowersFinAño'])\u001b[0m\u001b[0;34m\u001b[0m\u001b[0;34m\u001b[0m\u001b[0m\n\u001b[0;32m----> 6\u001b[0;31m         \u001b[0madd_mediosprensa\u001b[0m \u001b[0;34m=\u001b[0m \u001b[0;34m\"INSERT INTO mediosprensa (PKID, nombre, dueno, nfollowers) VALUES (\"\u001b[0m\u001b[0;34m+\u001b[0m\u001b[0mrow\u001b[0m\u001b[0;34m[\u001b[0m\u001b[0;34m'PKID'\u001b[0m\u001b[0;34m]\u001b[0m\u001b[0;34m+\u001b[0m\u001b[0;34m\",'\"\u001b[0m\u001b[0;34m+\u001b[0m\u001b[0mrow\u001b[0m\u001b[0;34m[\u001b[0m\u001b[0;34m'CódigoMedio'\u001b[0m\u001b[0;34m]\u001b[0m\u001b[0;34m+\u001b[0m\u001b[0;34m\"','\"\u001b[0m\u001b[0;34m+\u001b[0m\u001b[0mrow\u001b[0m\u001b[0;34m[\u001b[0m\u001b[0;34m'PropiedadLegal'\u001b[0m\u001b[0;34m]\u001b[0m\u001b[0;34m+\u001b[0m\u001b[0;34m\"',\"\u001b[0m\u001b[0;34m+\u001b[0m\u001b[0mrow\u001b[0m\u001b[0;34m[\u001b[0m\u001b[0;34m'FollowersFinAño'\u001b[0m\u001b[0;34m]\u001b[0m\u001b[0;34m+\u001b[0m\u001b[0;34m\");\"\u001b[0m\u001b[0;34m\u001b[0m\u001b[0m\n\u001b[0m\u001b[1;32m      7\u001b[0m         \u001b[0mprint\u001b[0m\u001b[0;34m(\u001b[0m\u001b[0madd_mediosprensa\u001b[0m\u001b[0;34m)\u001b[0m\u001b[0;34m\u001b[0m\u001b[0m\n\u001b[1;32m      8\u001b[0m         \u001b[0mcursor\u001b[0m\u001b[0;34m.\u001b[0m\u001b[0mexecute\u001b[0m\u001b[0;34m(\u001b[0m\u001b[0madd_mediosprensa\u001b[0m\u001b[0;34m)\u001b[0m\u001b[0;34m\u001b[0m\u001b[0m\n",
      "\u001b[0;31mKeyError\u001b[0m: 'PKID'"
     ]
    }
   ],
   "source": [
    "import csv\n",
    "with open('medios.csv') as csvfile:\n",
    "    reader = csv.DictReader(csvfile)\n",
    "    for row in reader:\n",
    "        #print(row['CódigoMedio'], row['PropiedadLegal'], row['FollowersFinAño'])\n",
    "        add_mediosprensa = \"INSERT INTO mediosprensa (PKnombre, dueno, nfollowers) VALUES ('\"+row['CódigoMedio']+\"','\"+row['PropiedadLegal']+\"',\"+row['FollowersFinAño']+\");\"               \n",
    "        print(add_mediosprensa)\n",
    "        cursor.execute(add_mediosprensa)\n",
    "\n"
   ]
  },
  {
   "cell_type": "markdown",
   "metadata": {},
   "source": [
    "# 4. Consultar la base de datos"
   ]
  },
  {
   "cell_type": "markdown",
   "metadata": {},
   "source": [
    "Listar los medios de prensa en Chile ordenado según su número de followers en Twitter."
   ]
  },
  {
   "cell_type": "code",
   "execution_count": null,
   "metadata": {},
   "outputs": [],
   "source": [
    "import datetime\n",
    "\n",
    "query = (\"SELECT PKnombre FROM mediosprensa \"\n",
    "         \"ORDER BY nfollower\")\n",
    "\n",
    "cursor.execute(query)\n",
    "\n",
    "for (PKnombre, dueno, nfollowers) in cursor:\n",
    "  print(\"{}, {} was hired on {:%d %b %Y}\".format(\n",
    "    PKnombre, dueno, nfollowers))\n"
   ]
  },
  {
   "cell_type": "raw",
   "metadata": {},
   "source": [
    "Contar los dueños de medios de prensa en Chile."
   ]
  },
  {
   "cell_type": "code",
   "execution_count": null,
   "metadata": {},
   "outputs": [],
   "source": [
    "..."
   ]
  },
  {
   "cell_type": "markdown",
   "metadata": {},
   "source": [
    "Contar cuantes medios de prensa posee cada dueño."
   ]
  },
  {
   "cell_type": "code",
   "execution_count": null,
   "metadata": {},
   "outputs": [],
   "source": [
    "..."
   ]
  },
  {
   "cell_type": "markdown",
   "metadata": {},
   "source": [
    "Mostrar los últimos 10 títulos de noticias del medio \"La Tercera\""
   ]
  },
  {
   "cell_type": "code",
   "execution_count": null,
   "metadata": {},
   "outputs": [],
   "source": [
    "..."
   ]
  },
  {
   "cell_type": "markdown",
   "metadata": {},
   "source": [
    "Mostrar los nombre de medios y los títulos en los cuales aparacen la palabra \"Valdivia\"."
   ]
  },
  {
   "cell_type": "code",
   "execution_count": null,
   "metadata": {},
   "outputs": [],
   "source": [
    "..."
   ]
  },
  {
   "cell_type": "markdown",
   "metadata": {},
   "source": [
    "Por cada medio, mostrar el número de títulos en los cuales aparecen la palabra \"Puerto Montt\"."
   ]
  },
  {
   "cell_type": "code",
   "execution_count": null,
   "metadata": {},
   "outputs": [],
   "source": [
    "..."
   ]
  }
 ],
 "metadata": {
  "kernelspec": {
   "display_name": "Python 3",
   "language": "python",
   "name": "python3"
  },
  "language_info": {
   "codemirror_mode": {
    "name": "ipython",
    "version": 3
   },
   "file_extension": ".py",
   "mimetype": "text/x-python",
   "name": "python",
   "nbconvert_exporter": "python",
   "pygments_lexer": "ipython3",
   "version": "3.5.2"
  }
 },
 "nbformat": 4,
 "nbformat_minor": 2
}
