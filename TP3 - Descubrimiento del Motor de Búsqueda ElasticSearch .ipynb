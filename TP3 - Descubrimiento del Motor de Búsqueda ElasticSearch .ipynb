{
 "cells": [
  {
   "cell_type": "markdown",
   "metadata": {},
   "source": [
    "# TP3- Descubrimiento del Motor de Búsqueda ElasticSearch"
   ]
  },
  {
   "cell_type": "markdown",
   "metadata": {},
   "source": [
    "## 1) Preguntas:\n",
    "\n",
    "1.1 ¿ElasticSearch es un SGBD de nueva generación? Qué es un motor de búsqueda?\n",
    "\n",
    "1.2 ¿Cuáles son sus principales caracteristicas? ¿Qué modelo lógico de datos utiliza?\n",
    "\n",
    "1.3 ¿Cuáles son los puntos similares y las diferencias con el SGBD Mongo?\n",
    "\n",
    "1.4 ¿Cuál es la fecha de su primera versión? ¿Cuál es la frecuencia de aparación de nuevas versiones?\n",
    "\n",
    "1.5 ¿Cuál es su licencia? Cuáles son las principales caracteristicas de esta licencia?\n",
    "\n",
    "1.6 ¿Qué empresas o productos utilizan ElasticSearch? Cuáles son los casos de uso habituales?\n",
    "\n",
    "1.7 ¿Cuáles son los otros productos desarrollados en la organización Elastic?\n",
    "\n",
    "<b>Enlaces utiles</b>:\n",
    "\n",
    "https://www.elastic.co/products/elasticsearch\n",
    "\n",
    "https://en.wikipedia.org/wiki/Elasticsearch\n",
    "\n",
    "https://db-engines.com/en/ranking"
   ]
  },
  {
   "cell_type": "code",
   "execution_count": null,
   "metadata": {},
   "outputs": [],
   "source": [
    "1.1 No, ElasticSearch es un motor de busqueda.\n",
    "Un motor de busqueda es un sistema de administracion de base de datos NoSQL dedicados la busqueda \n",
    "de contenidos de datos.\n",
    "\n",
    "1.2 Proporciona un sistema distribuido, multiusuario. Se desarrolla en Java y es de codigo abierto. \n",
    "Datos sin esquema pero con formato JSON.\n",
    "\n",
    "1.3 Ambos trabajan con un esquema de datos.\n",
    "\n",
    "1.4 Su primera version fue lanzada el 8 de febrero del 2010, las nuevas versiones tienen una aparicion\n",
    "con una frecuencia de un mes aproximadamente\n",
    "\n",
    "1.5 Licencia apache, es una licencia de software libre permisiva.\n",
    "\n",
    "1.6 Wikpedia, Netflix, Ebay.\n",
    "\n",
    "1.7 Kibana, Logstash, Beats, X-Pack, etc."
   ]
  },
  {
   "cell_type": "markdown",
   "metadata": {},
   "source": [
    "## 2) Instalar ElasticSearch\n",
    "\n",
    "2.1 Descargar e instalar ElasticSearch 6.2 (https://www.elastic.co/downloads/elasticsearch)\n",
    "\n",
    "2.2 Ejecutar ElasticSearch (bin/elasticsearch) con la configuración por defecto\n",
    "\n",
    "2.3 En un terminal, ejecutar el comando siguiente:\n",
    "\n",
    "curl -X GET \"http://localhost:9200/_cat/health?v\"\n",
    "\n",
    "De qué sirve el software CURL?\n",
    "Cuantos nodos y shards tiene su instalación de ElasticSearch? Cómo se llama su cluster?\n",
    "\n",
    "<b>Enlaces utiles:</b>\n",
    "\n",
    "https://www.elastic.co/guide/en/elasticsearch/reference/current/_cluster_health.html"
   ]
  },
  {
   "cell_type": "code",
   "execution_count": null,
   "metadata": {},
   "outputs": [],
   "source": [
    "2.3 Sirve para ver cómo está funcionando nuestro clúster.\n",
    "Nodos:1\n",
    "Shards:0\n",
    "Nombre:elasticsearch\n"
   ]
  },
  {
   "cell_type": "markdown",
   "metadata": {},
   "source": [
    "## 3) Operaciones CRUD básicas"
   ]
  },
  {
   "cell_type": "markdown",
   "metadata": {},
   "source": [
    "3.1 Listar los indices disponibles en el cluster\n",
    "\n",
    "3.2 Seguir el \"Getting Started\" de la documentación de ElasticSearch a partir de la sección siguiente: https://www.elastic.co/guide/en/elasticsearch/reference/current/_list_all_indices.html"
   ]
  },
  {
   "cell_type": "markdown",
   "metadata": {},
   "source": [
    "## 4) Ejemplo de Aplicación en Python utilizando ElasticSearch\n",
    "Para ayudar la comunidad científica de la UACh, proponemos desarrollar un motor de búsqueda de los artículos científicos escritos por la comunidad UACh.\n",
    "\n",
    "4.1 Buscar en Internet (por ejemplo en el sitio \"Web Of Science\": http://apps.webofknowledge.com) algunos articulos científicos escritos por académicos de la UACh y copiar cada resumen de artículo en un archivo texto. "
   ]
  },
  {
   "cell_type": "markdown",
   "metadata": {},
   "source": [
    "4.2 Desde Python, conectarse a su cluster ElasticSearch y crear un indice \"articulo-uach\""
   ]
  },
  {
   "cell_type": "markdown",
   "metadata": {},
   "source": [
    "4.3 Indexar los archivos textos recopilados con algunos metadatos adicionales"
   ]
  },
  {
   "cell_type": "markdown",
   "metadata": {},
   "source": [
    "4.4 Consultas"
   ]
  },
  {
   "cell_type": "code",
   "execution_count": 1,
   "metadata": {
    "scrolled": true
   },
   "outputs": [
    {
     "name": "stdout",
     "output_type": "stream",
     "text": [
      "b'{\\n  \"name\" : \"WrLghPj\",\\n  \"cluster_name\" : \"elasticsearch\",\\n  \"cluster_uuid\" : \"4SgpDdQLRoKg1mZhYP-NIA\",\\n  \"version\" : {\\n    \"number\" : \"6.2.3\",\\n    \"build_hash\" : \"c59ff00\",\\n    \"build_date\" : \"2018-03-13T10:06:29.741383Z\",\\n    \"build_snapshot\" : false,\\n    \"lucene_version\" : \"7.2.1\",\\n    \"minimum_wire_compatibility_version\" : \"5.6.0\",\\n    \"minimum_index_compatibility_version\" : \"5.0.0\"\\n  },\\n  \"tagline\" : \"You Know, for Search\"\\n}\\n'\n"
     ]
    }
   ],
   "source": [
    "import requests\n",
    "res = requests.get('http://localhost:9200')\n",
    "print(res.content)"
   ]
  },
  {
   "cell_type": "code",
   "execution_count": 2,
   "metadata": {},
   "outputs": [
    {
     "data": {
      "text/plain": [
       "{'error': {'index': 'articulos-uach',\n",
       "  'index_uuid': 'qeHoakeATtK0z-hS4vYcew',\n",
       "  'reason': 'index [articulos-uach/qeHoakeATtK0z-hS4vYcew] already exists',\n",
       "  'root_cause': [{'index': 'articulos-uach',\n",
       "    'index_uuid': 'qeHoakeATtK0z-hS4vYcew',\n",
       "    'reason': 'index [articulos-uach/qeHoakeATtK0z-hS4vYcew] already exists',\n",
       "    'type': 'resource_already_exists_exception'}],\n",
       "  'type': 'resource_already_exists_exception'},\n",
       " 'status': 400}"
      ]
     },
     "execution_count": 2,
     "metadata": {},
     "output_type": "execute_result"
    }
   ],
   "source": [
    "from elasticsearch import Elasticsearch\n",
    "\n",
    "es = Elasticsearch()\n",
    "\n",
    "es.indices.create(index='articulos-uach', ignore=400)"
   ]
  },
  {
   "cell_type": "code",
   "execution_count": 3,
   "metadata": {},
   "outputs": [],
   "source": [
    "from datetime import datetime\n",
    "doc = [{\n",
    "    'id':'1',\n",
    "    'institucion': 'UACH',\n",
    "    'titulo':'Effect of warming anesthetic on pain perception during dental injection: a split-mouth randomized clinical trial.',\n",
    "    'investigador': 'Aravena P, Barrientos, Troncoso, Coronado, Sotelo-Hitschfeld ',\n",
    "    'resumen': 'The purpose of this study is to determine the effectiveness of warming anesthesia on the control of the pain produced during the administration of dental anesthesia injection and to analyze the role of Transient Receptor Potential Vanilloid-1 nociceptor channels in this effect. Patients and methods: A double-blind, split-mouth randomized clinical trial was designed. Seventy-two volunteer students (22.1 +/- 2.45 years old; 51 men) from the School of Dentistry at the Universidad Austral de Chile (Valdivia, Chile) participated. They were each administered 0.9 mL of lidocaine HCl 2% with epinephrine 1: 100,000 (Alphacaine (R)) using two injections in the buccal vestibule at the level of the upper lateral incisor teeth. Anesthesia was administered in a hemiarch at 42 degrees C (107.6 degrees F) and after 1 week, anesthesia was administered by randomized sequence on the contralateral side at room temperature (21 degrees C-69.8 degrees F) at a standardized speed. The intensity of pain perceived during the injection was compared using a 100 mm visual analog scale (VAS; Wilcoxon test p<0.05). ',\n",
    "    'timestamp': datetime.now(),\n",
    "},\n",
    "{\n",
    "    'id':'2',\n",
    "    'institucion': 'UACH',\n",
    "    'titulo':'Does the pre-flowering period determine the potential grain weight of sunflower?',\n",
    "    'investigador': 'Castillo, Francisca M. Vásquez, Santiago C., Calderini, Daniel F.',\n",
    "    'resumen': 'Grain weight (GW) is an important component of grain yield and quality of sunflower and the improvement of this trait has been proposed as an aim for breeding of this crop. There is strong evidence suggesting the pre-flowering period as key to determining GW in different crops; however, the key traits and mechanisms controlling GW during this phase are still largely unknown in sunflower. This study conducted a detailed survey of how the pre-flowering period determines grain growth dynamics by assessing the early developmental process during the growth of reproductive organs and the sensitivity of GW, grain number (GN) and grain oil concentration to different source sink manipulations immediately before flowering. Two experiments were carried out under field conditions in two growing seasons. In Exp. 1 two sunflower oilseed hybrids contrasting in GW (Alybro and SG) were sown at the Experimental Station of the Universidad Austral de Chile in Valdivia (39 degrees 47S, 73 degrees 14W), Chile. In Exp. 2, the same hybrids plus a confectionery genotype (RHA) were evaluated in the Experimental Station where two source sink treatments were performed: a control (without manipulation) and a shading treatment starting 16 days previous to anthesis, i.e. during the R2-R5 period. Crop development, average and individual GW, GN and oil concentration of grains were assessed at harvest. Also, flower and grain traits and their dynamics were measured from early reproductive stage (ovary at R3) to harvest in different grain positions from the capitulum (e.g., fresh and dry weight and dimensions of grains, pericarp and embryo and grain oil concentration). GW was significantly affected by genotype and shading treatments imposed at pre-anthesis, but no statistical effect of the lower source sink ratio was found on GN. Contrary to GW, grain oil of oilseed genotypes was highly conservative under the source sink reduction in our study. Positive associations were found between final GW and: ovary weight at R3, at anthesis (R5), ovary growth rate, grain dimensions and water content. Final GW also showed a linear association with ovary growth rate. This study is the first to evaluate the ovary weight from the early development stage and the ovary growth rate during the pre-anthesis period in sunflower and the effect of source reduction at pre-anthesis on grain oil concentration, supporting the importance of the maternal tissues on the setting of potential and actual GW in sunflower.',\n",
    "    'timestamp': datetime.now(),\n",
    "},\n",
    "{\n",
    "    'id':'3',\n",
    "    'institucion': 'UACH',\n",
    "    'titulo':'Hydrodynamic Analysis of a Heaving Wave Energy Converter',\n",
    "    'investigador': 'Gonzalo Tampier B., Laura Grüter',\n",
    "    'resumen': 'In the present paper, the development of a model scale Wave Energy Converter (WEC) and an experimental WEC test rig are presented, and results of numerical simulations and experimental measurements are shown. The presented point absorber WEC is coupled to a generic power take-off (PTO) and is restricted to pure heave motion in regular waves. Experiments were carried out at the Universidad Austral de Chile (UACh) Wave Tank and results from responses and efficiencies were compared with data from the BEM (boundary element method) code WAMIT. Numerical and experimental results showed good agreement. Finally, results were extrapolated and superposed with typical wave energy spectra found in different Chilean regions, providing a first performance estimation for a wave energy converter in Chile. Results are discussed and compared with an existing technology and give an insight of the potential for wave energy technologies in Chile. Further investigation is proposed for an analysis in irregular waves and the use of a more advanced PTO (power take-off) in the future. (C) 2017 Elsevier Ltd. All rights reserved.',\n",
    "    'timestamp': datetime.now(),\n",
    "},\n",
    "{\n",
    "    'id':'4',\n",
    "    'institucion': 'UACH',\n",
    "    'titulo':'Sarcocystosis in wild red deer (Cervus elaphus) in Patagonia, Argentina',\n",
    "    'investigador': 'Elizabeth Chang Reissig, Gastón Moré, Adriana Massone, Francisco A. Uzal',\n",
    "    'resumen': 'Worldwinde, cervids are considered an important source of infection and dissemination of a wide variety of pathogens, both for farm animals and humans. Among this diseases is sarcosporidiosis, which is a parasitic disease caused by Sarcocystis spp. (Protozoa: Apicomplexa). Most frequent clinical signs are hemolytic anemia, weakness, weight loss and decrease of growth and some species of Sarcocystis might cause abortions. The clinical disease in ruminants is fairly rare but the infection is very frequent. Infections are accumulative and the parasite does not generate immunity in any of the hosts. Ovine sarcosporidiosis is a serious issue in the some regions of Chile due to the macrocysts located in the muscle which means condemnation of the whole carcass. Sarcocystis spp. has been widely reported in red deer and other cervid species but in Chile the situation remains unknown. Nowadays there is little to no evidence of Sarcocystis in foreign deer in Chile and there is only one report of the parasite on pudu. The main goal of this study is to demonstrate the presence of Sarcocystis spp. in myocardium of red deer and fallow deer in Chile, and confirm the presence of Sarcocystis spp. in pudu. All cervid cases from 1994 to 2013 of the Institute of Animal Pathology of the Universidad Austral de Chile were reviewed. The animals selected were those in which a myocardium sample was taken. From the histopathological samples observed, it was found that 5 of the 9 red deer, 1 of the 4 fallow deer and in 11 of the 23 pudu there were Sarcocystis cysts in the myocardium. This study represents the first record for Chile of Sarcocystis spp. in myocardium of red deer and fallow deer. Stablishing the red deer, fallow deer and pudu as hosts of Sarcocystis aids to have a better understanding of the parasite epidemiology in Chile and the role of wild and captive cervids in the maintenance and spread of these parasites.',\n",
    "    'timestamp': datetime.now(),\n",
    "},\n",
    "{\n",
    "    'id':'5',\n",
    "    'institucion': 'UACH',\n",
    "    'titulo':'La importancia del zorzal austral Turdus falcklandii en la germinación de semillas de pitra Myrceugenia planipesThe importance of austral thrush Turdus falcklandii in seed germination of pitra Myrceugenia planipes',\n",
    "    'investigador': 'José I.Orellana, Carlos E.Valdivia',\n",
    "    'resumen': 'In the temperate austral forests endozoochory is crucial for many plants with fleshy fruits, birds being the biggest consumers of fruits and seed dispersers. The Austral thrush Turdus falcklandii is a resident bird that consumes fruits of Myrceugeia planipes, increasing seed germination and reducing the time required for the appearance of the hypocotyl, which translates into competitive advantages for new individuals. (C) 2017 Universidad Nacional Autonoma de Mexico, Instituto de Biologia.',\n",
    "    'timestamp': datetime.now(),\n",
    "}]\n"
   ]
  },
  {
   "cell_type": "code",
   "execution_count": 4,
   "metadata": {},
   "outputs": [],
   "source": [
    "res = es.search(index=\"articulos-uach\", body={\"query\": {\"match_all\": {}}})\n",
    "for hit in res['hits']['hits']:\n",
    "    print(\"%(timestamp)s %(titulo)s: %(investigador)s: %(institucion)s: %(resumen)s\" % hit[\"_source\"])"
   ]
  },
  {
   "cell_type": "code",
   "execution_count": null,
   "metadata": {},
   "outputs": [],
   "source": []
  }
 ],
 "metadata": {
  "kernelspec": {
   "display_name": "Python 3",
   "language": "python",
   "name": "python3"
  },
  "language_info": {
   "codemirror_mode": {
    "name": "ipython",
    "version": 3
   },
   "file_extension": ".py",
   "mimetype": "text/x-python",
   "name": "python",
   "nbconvert_exporter": "python",
   "pygments_lexer": "ipython3",
   "version": "3.5.2"
  }
 },
 "nbformat": 4,
 "nbformat_minor": 2
}
