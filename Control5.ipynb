{
 "cells": [
  {
   "cell_type": "code",
   "execution_count": 2,
   "metadata": {},
   "outputs": [
    {
     "data": {
      "image/png": "[encoded data removed]",
      "text/plain": [
       "<Figure size 432x288 with 1 Axes>"
      ]
     },
     "metadata": {},
     "output_type": "display_data"
    }
   ],
   "source": [
    "#1\n",
    "\n",
    "import pandas as pd\n",
    "import matplotlib.pyplot as plt\n",
    "from numpy.random import rand\n",
    "\n",
    "df = pd.read_csv('dictionary.csv', sep=\",\")\n",
    "histo = df[['Country', 'GDP per Capita']]\n",
    "\n",
    "histo.hist()\n",
    "plt.show()\n"
   ]
  },
  {
   "cell_type": "code",
   "execution_count": 3,
   "metadata": {},
   "outputs": [
    {
     "data": {
      "image/png": "[encoded data removed]",
      "text/plain": [
       "<Figure size 432x288 with 1 Axes>"
      ]
     },
     "metadata": {},
     "output_type": "display_data"
    }
   ],
   "source": [
    "#2\n",
    "\n",
    "df_summer = pd.read_csv('summer.csv', sep=\",\")\n",
    "df_country = df_summer.groupby(['Country', 'Medal'])['Medal'].count()\n",
    "\n",
    "df_country.hist()\n",
    "plt.show()\n"
   ]
  },
  {
   "cell_type": "code",
   "execution_count": 26,
   "metadata": {},
   "outputs": [
    {
     "data": {
      "image/png": "[encoded data removed]",
      "text/plain": [
       "<Figure size 432x288 with 1 Axes>"
      ]
     },
     "metadata": {},
     "output_type": "display_data"
    }
   ],
   "source": [
    "#3\n",
    "\n",
    "df_medal_gold = df_summer[df_summer['Medal']=='Gold'].groupby(['Country', 'Medal'])['Medal'].count()\n",
    "df_medal_silver = df_summer[df_summer['Medal']=='Silver'].groupby(['Country', 'Medal'])['Medal'].count()\n",
    "df_medal_bronze = df_summer[df_summer['Medal']=='Bronze'].groupby(['Country', 'Medal'])['Medal'].count()\n",
    "\n",
    "df_medal_gold.hist()\n",
    "df_medal_silver.hist()\n",
    "df_medal_bronze.hist()\n",
    "plt.show()"
   ]
  },
  {
   "cell_type": "code",
   "execution_count": 4,
   "metadata": {},
   "outputs": [
    {
     "data": {
      "text/html": [
       "<div>\n",
       "<style scoped>\n",
       "    .dataframe tbody tr th:only-of-type {\n",
       "        vertical-align: middle;\n",
       "    }\n",
       "\n",
       "    .dataframe tbody tr th {\n",
       "        vertical-align: top;\n",
       "    }\n",
       "\n",
       "    .dataframe thead th {\n",
       "        text-align: right;\n",
       "    }\n",
       "</style>\n",
       "<table border=\"1\" class=\"dataframe\">\n",
       "  <thead>\n",
       "    <tr style=\"text-align: right;\">\n",
       "      <th></th>\n",
       "      <th>Year_x</th>\n",
       "      <th>City_x</th>\n",
       "      <th>Sport_x</th>\n",
       "      <th>Discipline_x</th>\n",
       "      <th>Athlete_x</th>\n",
       "      <th>Country</th>\n",
       "      <th>Gender_x</th>\n",
       "      <th>Event_x</th>\n",
       "      <th>Medal_x</th>\n",
       "      <th>Year_y</th>\n",
       "      <th>City_y</th>\n",
       "      <th>Sport_y</th>\n",
       "      <th>Discipline_y</th>\n",
       "      <th>Athlete_y</th>\n",
       "      <th>Gender_y</th>\n",
       "      <th>Event_y</th>\n",
       "      <th>Medal_y</th>\n",
       "    </tr>\n",
       "  </thead>\n",
       "  <tbody>\n",
       "    <tr>\n",
       "      <th>0</th>\n",
       "      <td>1896</td>\n",
       "      <td>Athens</td>\n",
       "      <td>Aquatics</td>\n",
       "      <td>Swimming</td>\n",
       "      <td>HAJOS, Alfred</td>\n",
       "      <td>HUN</td>\n",
       "      <td>Men</td>\n",
       "      <td>100M Freestyle</td>\n",
       "      <td>Gold</td>\n",
       "      <td>1932</td>\n",
       "      <td>Lake Placid</td>\n",
       "      <td>Skating</td>\n",
       "      <td>Figure skating</td>\n",
       "      <td>ROTTER, Emilia</td>\n",
       "      <td>Women</td>\n",
       "      <td>Pairs</td>\n",
       "      <td>Bronze</td>\n",
       "    </tr>\n",
       "    <tr>\n",
       "      <th>1</th>\n",
       "      <td>1896</td>\n",
       "      <td>Athens</td>\n",
       "      <td>Aquatics</td>\n",
       "      <td>Swimming</td>\n",
       "      <td>HAJOS, Alfred</td>\n",
       "      <td>HUN</td>\n",
       "      <td>Men</td>\n",
       "      <td>100M Freestyle</td>\n",
       "      <td>Gold</td>\n",
       "      <td>1932</td>\n",
       "      <td>Lake Placid</td>\n",
       "      <td>Skating</td>\n",
       "      <td>Figure skating</td>\n",
       "      <td>SZOLLAS, Laszlo</td>\n",
       "      <td>Men</td>\n",
       "      <td>Pairs</td>\n",
       "      <td>Bronze</td>\n",
       "    </tr>\n",
       "    <tr>\n",
       "      <th>2</th>\n",
       "      <td>1896</td>\n",
       "      <td>Athens</td>\n",
       "      <td>Aquatics</td>\n",
       "      <td>Swimming</td>\n",
       "      <td>HAJOS, Alfred</td>\n",
       "      <td>HUN</td>\n",
       "      <td>Men</td>\n",
       "      <td>100M Freestyle</td>\n",
       "      <td>Gold</td>\n",
       "      <td>1936</td>\n",
       "      <td>Garmisch Partenkirchen</td>\n",
       "      <td>Skating</td>\n",
       "      <td>Figure skating</td>\n",
       "      <td>ROTTER, Emilia</td>\n",
       "      <td>Women</td>\n",
       "      <td>Pairs</td>\n",
       "      <td>Bronze</td>\n",
       "    </tr>\n",
       "    <tr>\n",
       "      <th>3</th>\n",
       "      <td>1896</td>\n",
       "      <td>Athens</td>\n",
       "      <td>Aquatics</td>\n",
       "      <td>Swimming</td>\n",
       "      <td>HAJOS, Alfred</td>\n",
       "      <td>HUN</td>\n",
       "      <td>Men</td>\n",
       "      <td>100M Freestyle</td>\n",
       "      <td>Gold</td>\n",
       "      <td>1936</td>\n",
       "      <td>Garmisch Partenkirchen</td>\n",
       "      <td>Skating</td>\n",
       "      <td>Figure skating</td>\n",
       "      <td>SZOLLAS, Laszlo</td>\n",
       "      <td>Men</td>\n",
       "      <td>Pairs</td>\n",
       "      <td>Bronze</td>\n",
       "    </tr>\n",
       "    <tr>\n",
       "      <th>4</th>\n",
       "      <td>1896</td>\n",
       "      <td>Athens</td>\n",
       "      <td>Aquatics</td>\n",
       "      <td>Swimming</td>\n",
       "      <td>HAJOS, Alfred</td>\n",
       "      <td>HUN</td>\n",
       "      <td>Men</td>\n",
       "      <td>100M Freestyle</td>\n",
       "      <td>Gold</td>\n",
       "      <td>1948</td>\n",
       "      <td>St.Moritz</td>\n",
       "      <td>Skating</td>\n",
       "      <td>Figure skating</td>\n",
       "      <td>KEKESSY, Andrea</td>\n",
       "      <td>Women</td>\n",
       "      <td>Pairs</td>\n",
       "      <td>Silver</td>\n",
       "    </tr>\n",
       "  </tbody>\n",
       "</table>\n",
       "</div>"
      ],
      "text/plain": [
       "   Year_x  City_x   Sport_x Discipline_x      Athlete_x Country Gender_x  \\\n",
       "0    1896  Athens  Aquatics     Swimming  HAJOS, Alfred     HUN      Men   \n",
       "1    1896  Athens  Aquatics     Swimming  HAJOS, Alfred     HUN      Men   \n",
       "2    1896  Athens  Aquatics     Swimming  HAJOS, Alfred     HUN      Men   \n",
       "3    1896  Athens  Aquatics     Swimming  HAJOS, Alfred     HUN      Men   \n",
       "4    1896  Athens  Aquatics     Swimming  HAJOS, Alfred     HUN      Men   \n",
       "\n",
       "          Event_x Medal_x  Year_y                  City_y  Sport_y  \\\n",
       "0  100M Freestyle    Gold    1932             Lake Placid  Skating   \n",
       "1  100M Freestyle    Gold    1932             Lake Placid  Skating   \n",
       "2  100M Freestyle    Gold    1936  Garmisch Partenkirchen  Skating   \n",
       "3  100M Freestyle    Gold    1936  Garmisch Partenkirchen  Skating   \n",
       "4  100M Freestyle    Gold    1948               St.Moritz  Skating   \n",
       "\n",
       "     Discipline_y        Athlete_y Gender_y Event_y Medal_y  \n",
       "0  Figure skating   ROTTER, Emilia    Women   Pairs  Bronze  \n",
       "1  Figure skating  SZOLLAS, Laszlo      Men   Pairs  Bronze  \n",
       "2  Figure skating   ROTTER, Emilia    Women   Pairs  Bronze  \n",
       "3  Figure skating  SZOLLAS, Laszlo      Men   Pairs  Bronze  \n",
       "4  Figure skating  KEKESSY, Andrea    Women   Pairs  Silver  "
      ]
     },
     "execution_count": 4,
     "metadata": {},
     "output_type": "execute_result"
    }
   ],
   "source": [
    "#4\n",
    "#Solo logre hacer merge\n",
    "\n",
    "df_winter = pd.read_csv('winter.csv', sep=\",\")\n",
    "\n",
    "df_merge = df_summer.merge(df_winter, on='Country')\n",
    "df_merge[:5]\n",
    "#df2_medal_gold = df_merge[df_merge['Medal_x']=='Gold' and ['Medal_y']=='Gold'].groupby(['Country', 'Medal_x', 'Medal_y'])['Medal_x', 'Medal_y'].count()\n",
    "\n",
    "#df2_medal_gold.hist()\n",
    "#plt.show()\n",
    "\n",
    "\n"
   ]
  },
  {
   "cell_type": "code",
   "execution_count": null,
   "metadata": {},
   "outputs": [],
   "source": [
    "#5\n"
   ]
  }
 ],
 "metadata": {
  "kernelspec": {
   "display_name": "Python 3",
   "language": "python",
   "name": "python3"
  },
  "language_info": {
   "codemirror_mode": {
    "name": "ipython",
    "version": 3
   },
   "file_extension": ".py",
   "mimetype": "text/x-python",
   "name": "python",
   "nbconvert_exporter": "python",
   "pygments_lexer": "ipython3",
   "version": "3.6.5"
  }
 },
 "nbformat": 4,
 "nbformat_minor": 2
}
