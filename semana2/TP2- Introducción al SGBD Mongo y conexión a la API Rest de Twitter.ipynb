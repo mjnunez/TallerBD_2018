{
 "cells": [
  {
   "cell_type": "markdown",
   "metadata": {},
   "source": [
    "# TP2- Introducción al SGBD MongoDB y Conexión a la API Rest de Twitter"
   ]
  },
  {
   "cell_type": "markdown",
   "metadata": {},
   "source": [
    "En este trabajo práctico queremos descubrir las características del SGBD no relacional MongoDB. En este sentido, vamos a desarrollar un script que se conecta a la API Rest de Twitter para: 1) descargar datos al formato JSON, 2) almacenarlos en una base Mongo y 3) realizar algunas consultas sobre los datos."
   ]
  },
  {
   "cell_type": "markdown",
   "metadata": {},
   "source": [
    "## 1. Conectarse a la API Rest de Twitter"
   ]
  },
  {
   "cell_type": "markdown",
   "metadata": {},
   "source": [
    "- ¿Cómo crear una aplicación utilizando los datos de Twitter?: https://developer.twitter.com/en/docs/basics/getting-started\n",
    "- Crear una aplicación utilizando los datos de Twitter: https://apps.twitter.com/\n",
    "- ¿Qué deberían saber todos los desarrolladores antes de jugar con la API de twitter?: https://developer.twitter.com/en/docs/basics/things-every-developer-should-know"
   ]
  },
  {
   "cell_type": "code",
   "execution_count": 2,
   "metadata": {},
   "outputs": [],
   "source": [
    "from twython import Twython\n",
    "\n",
    "APP_KEY = 'Bln4nshEi6fcZZCe6wBWxRGCh'\n",
    "APP_SECRET = 'Bmn9HUyJlS6WWalqqQgJH2cgXx308FRKT1EUZfzMWWswsDXHAR'\n",
    "OAUTH_TOKEN = '2437781952-icfoETmCPDtEJXjkTMZ7OGU9UhcrYi2UCbXNnFF'\n",
    "OAUTH_TOKEN_SECRET = 'Br1sua5udIHHzXDREVphc5GIaqgtTQ3e98mSG5dw9n6dV'\n",
    "\n",
    "twitter = Twython(APP_KEY, APP_SECRET,OAUTH_TOKEN, OAUTH_TOKEN_SECRET)\n"
   ]
  },
  {
   "cell_type": "code",
   "execution_count": null,
   "metadata": {},
   "outputs": [],
   "source": [
    "twitter.update_status(status='See how easy using Twython is!')"
   ]
  },
  {
   "cell_type": "markdown",
   "metadata": {},
   "source": [
    "## 2. Consultar la API de Twitter"
   ]
  },
  {
   "cell_type": "markdown",
   "metadata": {},
   "source": [
    "- Utilizando una librería Python que permite enviar consultas HTTP a la API de Twitter, conectarse a un 'endpoint' de la API para leer datos. Ver la lista de los endpoints: https://developer.twitter.com/en/docs/tweets/post-and-engage/overview"
   ]
  },
  {
   "cell_type": "code",
   "execution_count": 3,
   "metadata": {},
   "outputs": [],
   "source": [
    "json= twitter.search(q='Valdivia')\n",
    "#twitter.search(q='Valdivia', result_type='popular')"
   ]
  },
  {
   "cell_type": "markdown",
   "metadata": {},
   "source": [
    "## 3. Conectarse al SGBD Mongo"
   ]
  },
  {
   "cell_type": "markdown",
   "metadata": {},
   "source": [
    "- Conectarse a Mongo desde Python utilizando la librería adecuada"
   ]
  },
  {
   "cell_type": "code",
   "execution_count": 4,
   "metadata": {},
   "outputs": [],
   "source": [
    "from pymongo import MongoClient\n",
    "client = MongoClient('localhost', 27017)"
   ]
  },
  {
   "cell_type": "markdown",
   "metadata": {},
   "source": [
    "## 4. Escribir datos de Twitter en una Base de Datos Mongo"
   ]
  },
  {
   "cell_type": "code",
   "execution_count": 5,
   "metadata": {
    "scrolled": true
   },
   "outputs": [
    {
     "name": "stdout",
     "output_type": "stream",
     "text": [
      "Wed Apr 11 17:28:04 +0000 2018\n",
      "@memoriacolorada @NandoJRocha Ao contrário do FDP do valdivia\n",
      "Rodrigo\n",
      "DEUS É  FIEL, ASSIM COMO OS CACHORROS 🐕\n",
      "\n",
      "Wed Apr 11 17:27:22 +0000 2018\n",
      "@jmc_valdivia Jajajajajajaja\n",
      "Xilol🌿\n",
      "Sabías qué...si un 🇨🇱 no dice al menos 2 veces al día -Weon- Wuea o Po - es considerado traición a la patria ?\n",
      "\n",
      "Wed Apr 11 17:27:00 +0000 2018\n",
      "No + AFP confirma fecha de la primera movilización de este año en Valdivia https://t.co/FGAKQm3FxY vía @biobio\n",
      "BotNoticias\n",
      "BOT de Noticias de Chile.  Recopilación instantánea de noticias de Chile y el mundo. Información sobre internet, tecnología y economía.\n",
      "Chile\n",
      "Wed Apr 11 17:26:35 +0000 2018\n",
      "@mariajoseuribe @exeortegarubio Estará en Valdivia, en la UACh, allá lo esperan. Muajajaja...\n",
      "Cristian\n",
      "No sigo a Xenófob@s, Racistas, Fach@s ni tont@s. Este país es un experimento neoliberal, DESPIERTA!\n",
      "Chile\n",
      "Wed Apr 11 17:25:31 +0000 2018\n",
      "RT @HectorG04063888: @jmc_valdivia @juferso1 Estimada amiga, esta los Últimos Aportes a Fundaciones y tantas otras acciones De corrupcion d…\n",
      "SARAVASTI\n",
      "mujer chilena patriota de las que defienden la libertad del ser humano tu derecho termina cuando invades el mío\n",
      "\n",
      "Wed Apr 11 17:25:12 +0000 2018\n",
      "RT @pokosaopaulino: Então, você já vai para o jogo acelerado. Ninguém vai apoiar, ninguém vai bater palmas para você. As vezes é bom. Esper…\n",
      "jeeh\n",
      "SPFC❤\n",
      "\n",
      "Wed Apr 11 17:24:12 +0000 2018\n",
      "Cómo jugaría YO el Domingo:\n",
      "\n",
      "Orión\n",
      "Zaldivia, Barroso, Insaurralde\n",
      "Opazo, Baeza, Carmona, Suazo (?)\n",
      "Valdivia\n",
      "Rivero, Paredes\n",
      "Camilo\n",
      "Socio y abonado de COLO-COLO. Ingeniero Civil UCH. Inviernista acérrimo. Extraterrestre y Avatar\n",
      "Chile\n",
      "Wed Apr 11 17:23:26 +0000 2018\n",
      "\" Sempre ruim estar fora. Fiquei fora por três partidas e é muito ruim porque eu vinha de uma sequência muito boa.… https://t.co/aJpkpr5PWl\n",
      "Valdivia São Paulino 🇾🇪\n",
      "Perfil fake do Valdivia, pagina de humor 24h de futebol e 24h de São Paulo Futebol Clube,aqui toda torcida é bem vinda,viva a zoeira l @SaoPauloFC ♥\n",
      "São Paulo\n",
      "Wed Apr 11 17:22:44 +0000 2018\n",
      "RT @luchoramirezg: @andrestopografo @sosean24 @jmc_valdivia @RosyHer57066002 Yo siendo de derecha, no niego que se cometieron violaciones a…\n",
      "ANTONIO\n",
      "Orgulloso de mi familia. Me gusta el futbol. Los animales. Derechito. La Lealtad no se Compra. La Traicion no va conmigo.  Nacido en Talca Acuario 3 Febrero\n",
      "C. Austral. Cochamó, Chile.\n",
      "Wed Apr 11 17:22:29 +0000 2018\n",
      "Então, você já vai para o jogo acelerado. Ninguém vai apoiar, ninguém vai bater palmas para você. As vezes é bom. E… https://t.co/NRrjpbTNXg\n",
      "Valdivia São Paulino 🇾🇪\n",
      "Perfil fake do Valdivia, pagina de humor 24h de futebol e 24h de São Paulo Futebol Clube,aqui toda torcida é bem vinda,viva a zoeira l @SaoPauloFC ♥\n",
      "São Paulo\n",
      "Wed Apr 11 17:22:02 +0000 2018\n",
      "RT @munivaldivia: [COMUNICADO] Municipio de #ValdiviaCL renovará flota de camiones recolectores de basura. https://t.co/PgkJNGxCrl https://…\n",
      "Luis Barrera M.\n",
      "Si usted se cree importante, lo invito a que visite el cementerio, y descubrirá a grandes personas que ya no están, y el mundo sigue girando igual.\n",
      "#Valdiviacl #Deporte #Humor #UACh #Música #Política #Naturaleza #Sociales #Animales #Ciencia\n",
      "Wed Apr 11 17:21:44 +0000 2018\n",
      "\"Tenho certeza que vamos fazer um bom jogo. Temos um dia para treinar. Vamos entrar na partida sabendo o que temos… https://t.co/kjxDTeDlmX\n",
      "Valdivia São Paulino 🇾🇪\n",
      "Perfil fake do Valdivia, pagina de humor 24h de futebol e 24h de São Paulo Futebol Clube,aqui toda torcida é bem vinda,viva a zoeira l @SaoPauloFC ♥\n",
      "São Paulo\n",
      "Wed Apr 11 17:21:40 +0000 2018\n",
      "@aluksicc Sr Luksic esforzadas jovencitas que con sus propios medios han salido adelante en el Rugby ellas son de V… https://t.co/O53xlePJ8A\n",
      "Blanca Cares\n",
      "Emprendedora dulces chilenos y empanadas\n",
      "Concepción, Chile\n",
      "Wed Apr 11 17:21:12 +0000 2018\n",
      "@FTalentScout he looks like Valdivia, Sao Paulo player. https://t.co/aLQTaRUPua\n",
      "Lenda\n",
      "@Flamengo\n",
      "Rio de Janeiro, Brasil\n",
      "Wed Apr 11 17:21:10 +0000 2018\n",
      "🇨🇱 #ValdiviaCL miércoles 11: Máx 12ºC  En la noche: Nublado https://t.co/xTAH155ZGc\n",
      "El Tiempo Valdivia\n",
      "\n",
      "Valdivia, Chile\n"
     ]
    },
    {
     "ename": "IndexError",
     "evalue": "list index out of range",
     "output_type": "error",
     "traceback": [
      "\u001b[0;31m---------------------------------------------------------------------------\u001b[0m",
      "\u001b[0;31mIndexError\u001b[0m                                Traceback (most recent call last)",
      "\u001b[0;32m<ipython-input-5-7871858b4516>\u001b[0m in \u001b[0;36m<module>\u001b[0;34m()\u001b[0m\n\u001b[1;32m      8\u001b[0m     \u001b[0mprint\u001b[0m\u001b[0;34m(\u001b[0m\u001b[0mjson\u001b[0m\u001b[0;34m[\u001b[0m\u001b[0;34m\"statuses\"\u001b[0m\u001b[0;34m]\u001b[0m\u001b[0;34m[\u001b[0m\u001b[0mi\u001b[0m\u001b[0;34m]\u001b[0m\u001b[0;34m[\u001b[0m\u001b[0;34m\"user\"\u001b[0m\u001b[0;34m]\u001b[0m\u001b[0;34m[\u001b[0m\u001b[0;34m\"location\"\u001b[0m\u001b[0;34m]\u001b[0m\u001b[0;34m)\u001b[0m\u001b[0;34m\u001b[0m\u001b[0m\n\u001b[1;32m      9\u001b[0m     \u001b[0mi\u001b[0m \u001b[0;34m+=\u001b[0m \u001b[0;36m1\u001b[0m\u001b[0;34m\u001b[0m\u001b[0m\n\u001b[0;32m---> 10\u001b[0;31m     diccionario = { \"created_at\": json[\"statuses\"][i][\"created_at\"],\n\u001b[0m\u001b[1;32m     11\u001b[0m                    \u001b[0;34m\"text\"\u001b[0m\u001b[0;34m:\u001b[0m \u001b[0mjson\u001b[0m\u001b[0;34m[\u001b[0m\u001b[0;34m\"statuses\"\u001b[0m\u001b[0;34m]\u001b[0m\u001b[0;34m[\u001b[0m\u001b[0mi\u001b[0m\u001b[0;34m]\u001b[0m\u001b[0;34m[\u001b[0m\u001b[0;34m\"text\"\u001b[0m\u001b[0;34m]\u001b[0m\u001b[0;34m,\u001b[0m\u001b[0;34m\u001b[0m\u001b[0m\n\u001b[1;32m     12\u001b[0m                    \u001b[0;34m\"name\"\u001b[0m\u001b[0;34m:\u001b[0m \u001b[0mjson\u001b[0m\u001b[0;34m[\u001b[0m\u001b[0;34m\"statuses\"\u001b[0m\u001b[0;34m]\u001b[0m\u001b[0;34m[\u001b[0m\u001b[0mi\u001b[0m\u001b[0;34m]\u001b[0m\u001b[0;34m[\u001b[0m\u001b[0;34m\"user\"\u001b[0m\u001b[0;34m]\u001b[0m\u001b[0;34m[\u001b[0m\u001b[0;34m\"name\"\u001b[0m\u001b[0;34m]\u001b[0m\u001b[0;34m,\u001b[0m\u001b[0;34m\u001b[0m\u001b[0m\n",
      "\u001b[0;31mIndexError\u001b[0m: list index out of range"
     ]
    }
   ],
   "source": [
    "db=client.TP2\n",
    "i=0\n",
    "while i<len(json[\"statuses\"]):\n",
    "    print(json[\"statuses\"][i][\"created_at\"])\n",
    "    print(json[\"statuses\"][i][\"text\"])\n",
    "    print(json[\"statuses\"][i][\"user\"][\"name\"])\n",
    "    print(json[\"statuses\"][i][\"user\"][\"description\"])\n",
    "    print(json[\"statuses\"][i][\"user\"][\"location\"])\n",
    "    i += 1\n",
    "    diccionario = { \"created_at\": json[\"statuses\"][i][\"created_at\"],\n",
    "                   \"text\": json[\"statuses\"][i][\"text\"],\n",
    "                   \"name\": json[\"statuses\"][i][\"user\"][\"name\"],\n",
    "                   \"description\": json[\"statuses\"][i][\"user\"][\"description\"],\n",
    "                   \"location\": json[\"statuses\"][i][\"user\"][\"location\"]}\n",
    "    db.reviews.insert_one(diccionario)"
   ]
  },
  {
   "cell_type": "code",
   "execution_count": 6,
   "metadata": {},
   "outputs": [
    {
     "name": "stdout",
     "output_type": "stream",
     "text": [
      "Database(MongoClient(host=['localhost:27017'], document_class=dict, tz_aware=False, connect=True), 'TP2')\n",
      "{'description': 'SPFC 🔴⚪️⚫️ Instagram maribdk', 'text': 'RT @Marcelo_Hazan: São 11 de linha: Militão, Rodrigo Caio, Arboleda, Régis, Reinaldo, Petros, Jucilei, Liziero, Nenê, Valdívia e Tréllez #g…', 'name': 'mariane machado', '_id': ObjectId('5acbd06d6b76951895ab9b48'), 'created_at': 'Mon Apr 09 20:41:47 +0000 2018', 'location': 'Brasil'}\n",
      "{'description': 'SPFC 🔴⚪️⚫️ Instagram maribdk', 'text': 'RT @Marcelo_Hazan: São 11 de linha: Militão, Rodrigo Caio, Arboleda, Régis, Reinaldo, Petros, Jucilei, Liziero, Nenê, Valdívia e Tréllez #g…', 'name': 'mariane machado', '_id': ObjectId('5acbd4f46b76951895ab9b56'), 'created_at': 'Mon Apr 09 20:41:47 +0000 2018', 'location': 'Brasil'}\n",
      "{'description': 'SPFC 🔴⚪️⚫️ Instagram maribdk', 'text': 'RT @Marcelo_Hazan: São 11 de linha: Militão, Rodrigo Caio, Arboleda, Régis, Reinaldo, Petros, Jucilei, Liziero, Nenê, Valdívia e Tréllez #g…', 'name': 'mariane machado', '_id': ObjectId('5acbd5276b76951895ab9b64'), 'created_at': 'Mon Apr 09 20:41:47 +0000 2018', 'location': 'Brasil'}\n",
      "{'description': 'SPFC 🔴⚪️⚫️ Instagram maribdk', 'text': 'RT @Marcelo_Hazan: São 11 de linha: Militão, Rodrigo Caio, Arboleda, Régis, Reinaldo, Petros, Jucilei, Liziero, Nenê, Valdívia e Tréllez #g…', 'name': 'mariane machado', '_id': ObjectId('5acbd5306b76951895ab9b72'), 'created_at': 'Mon Apr 09 20:41:47 +0000 2018', 'location': 'Brasil'}\n",
      "{'description': 'SPFC 🔴⚪️⚫️ Instagram maribdk', 'text': 'RT @Marcelo_Hazan: São 11 de linha: Militão, Rodrigo Caio, Arboleda, Régis, Reinaldo, Petros, Jucilei, Liziero, Nenê, Valdívia e Tréllez #g…', 'name': 'mariane machado', '_id': ObjectId('5acbd5406b76951895ab9b80'), 'created_at': 'Mon Apr 09 20:41:47 +0000 2018', 'location': 'Brasil'}\n",
      "{'description': 'SPFC 🔴⚪️⚫️ Instagram maribdk', 'text': 'RT @Marcelo_Hazan: São 11 de linha: Militão, Rodrigo Caio, Arboleda, Régis, Reinaldo, Petros, Jucilei, Liziero, Nenê, Valdívia e Tréllez #g…', 'name': 'mariane machado', '_id': ObjectId('5acbd8906b76951895ade916'), 'created_at': 'Mon Apr 09 20:41:47 +0000 2018', 'location': 'Brasil'}\n",
      "{'description': 'SPFC 🔴⚪️⚫️ Instagram maribdk', 'text': 'RT @Marcelo_Hazan: São 11 de linha: Militão, Rodrigo Caio, Arboleda, Régis, Reinaldo, Petros, Jucilei, Liziero, Nenê, Valdívia e Tréllez #g…', 'name': 'mariane machado', '_id': ObjectId('5acbd8a86b76951895ade925'), 'created_at': 'Mon Apr 09 20:41:47 +0000 2018', 'location': 'Brasil'}\n",
      "{'description': 'SPFC 🔴⚪️⚫️ Instagram maribdk', 'text': 'RT @Marcelo_Hazan: São 11 de linha: Militão, Rodrigo Caio, Arboleda, Régis, Reinaldo, Petros, Jucilei, Liziero, Nenê, Valdívia e Tréllez #g…', 'name': 'mariane machado', '_id': ObjectId('5acbd9696b76951895ade933'), 'created_at': 'Mon Apr 09 20:41:47 +0000 2018', 'location': 'Brasil'}\n",
      "{'description': 'SPFC 🔴⚪️⚫️ Instagram maribdk', 'text': 'RT @Marcelo_Hazan: São 11 de linha: Militão, Rodrigo Caio, Arboleda, Régis, Reinaldo, Petros, Jucilei, Liziero, Nenê, Valdívia e Tréllez #g…', 'name': 'mariane machado', '_id': ObjectId('5acbdb026b76951895ade941'), 'created_at': 'Mon Apr 09 20:41:47 +0000 2018', 'location': 'Brasil'}\n",
      "{'description': 'SPFC 🔴⚪️⚫️ Instagram maribdk', 'text': 'RT @Marcelo_Hazan: São 11 de linha: Militão, Rodrigo Caio, Arboleda, Régis, Reinaldo, Petros, Jucilei, Liziero, Nenê, Valdívia e Tréllez #g…', 'name': 'mariane machado', '_id': ObjectId('5acbdb136b76951895ade950'), 'created_at': 'Mon Apr 09 20:41:47 +0000 2018', 'location': 'Brasil'}\n"
     ]
    }
   ],
   "source": [
    "db=client.TP2\n",
    "print(db)\n",
    "\n",
    "cursor=db.reviews.find({\"location\":\"Brasil\"})\n",
    "\n",
    "for doc in cursor:\n",
    "    print(doc)"
   ]
  },
  {
   "cell_type": "code",
   "execution_count": 34,
   "metadata": {},
   "outputs": [
    {
     "name": "stdout",
     "output_type": "stream",
     "text": [
      "{'text': 'No + AFP confirma fecha de la primera movilización de este año en Valdivia https://t.co/FGAKQm3FxY vía @biobio', 'description': 'BOT de Noticias de Chile.  Recopilación instantánea de noticias de Chile y el mundo. Información sobre internet, tecnología y economía.', 'name': 'BotNoticias', '_id': ObjectId('5ace45d06b7695096c1f53c0'), 'created_at': 'Wed Apr 11 17:27:00 +0000 2018', 'location': 'Chile'}\n"
     ]
    }
   ],
   "source": [
    "db=client.TP2\n",
    "\n",
    "cursor=db.reviews.find({ \"text\": { \"$regex\": \"AFP\"}})\n",
    "\n",
    "for doc in cursor:\n",
    "    print(doc)\n",
    "    \n",
    "#con UACH no encontraba nungun tweet"
   ]
  },
  {
   "cell_type": "code",
   "execution_count": 41,
   "metadata": {},
   "outputs": [
    {
     "data": {
      "text/plain": [
       "1"
      ]
     },
     "execution_count": 41,
     "metadata": {},
     "output_type": "execute_result"
    }
   ],
   "source": [
    "db=client.TP2\n",
    "db.reviews.find({\"name\": \"BotNoticias\"}).count()\n"
   ]
  },
  {
   "cell_type": "code",
   "execution_count": null,
   "metadata": {},
   "outputs": [],
   "source": []
  }
 ],
 "metadata": {
  "kernelspec": {
   "display_name": "Python 3",
   "language": "python",
   "name": "python3"
  },
  "language_info": {
   "codemirror_mode": {
    "name": "ipython",
    "version": 3
   },
   "file_extension": ".py",
   "mimetype": "text/x-python",
   "name": "python",
   "nbconvert_exporter": "python",
   "pygments_lexer": "ipython3",
   "version": "3.5.2"
  }
 },
 "nbformat": 4,
 "nbformat_minor": 2
}
