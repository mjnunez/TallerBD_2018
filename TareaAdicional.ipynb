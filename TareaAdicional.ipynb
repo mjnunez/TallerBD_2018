{
 "cells": [
  {
   "cell_type": "code",
   "execution_count": 3,
   "metadata": {},
   "outputs": [],
   "source": [
    "#conexion twitter y neo4j\n",
    "from twython import Twython\n",
    "from neo4jrestclient.client import GraphDatabase\n",
    "from neo4jrestclient import client\n",
    "import pandas as pd\n",
    "import pprint as pp\n",
    "APP_KEY = 'rXbK97bg6LvBpH9WqDJkqw10T'\n",
    "APP_SECRET = 'nRGOOhI3sCzsNMLpd5drXmHRAhvT9BOi9HN2vtCI3975CUZUHe'\n",
    "\n",
    "twitter = Twython(APP_KEY, APP_SECRET)\n",
    "\n",
    "OAUTH_TOKEN = '976279920279261184-f5RUiD4PRLmOzVQV8FzfXJ827bKwLvI'\n",
    "OAUTH_TOKEN_SECRET = 'sUk7XhsexQWJ6cmcu3cSs8YgBWYSvFBbjiMrazXTgpNs0'\n",
    "\n",
    "twitter = Twython(APP_KEY, APP_SECRET,OAUTH_TOKEN, OAUTH_TOKEN_SECRET)\n",
    "db = GraphDatabase(\"http://localhost:7474\", username=\"neo4j\", password=\"root\")"
   ]
  },
  {
   "cell_type": "code",
   "execution_count": 15,
   "metadata": {},
   "outputs": [],
   "source": [
    "#cargando los datos de twitter \n",
    "result =twitter.search(q='ValdiviaCL', count =100)\n",
    "datos = []\n",
    "for i in range(0,len(result[\"statuses\"])):\n",
    "    usuario_men =[]\n",
    "    for j in range(0,len(result[\"statuses\"][i]['entities']['user_mentions'])):\n",
    "        usuario_men.append({'usuario': result['statuses'][i]['entities']['user_mentions'][j]['name']})\n",
    "    dato = {\n",
    "        'texto': resultados['statuses'][i]['text'],\n",
    "        'usuario': resultados['statuses'][i]['user']['name'],\n",
    "        'usuarios_men': usuario_men\n",
    "    }\n",
    "    datos.append(dato)"
   ]
  },
  {
   "cell_type": "code",
   "execution_count": 16,
   "metadata": {},
   "outputs": [],
   "source": [
    "#crear listas con los usuarios y los twitts\n",
    "usuarios = []\n",
    "usuariosGraph = []\n",
    "usuariosNeo = db.labels.create(\"Usuarios\")\n",
    "for d in datos:\n",
    "    for c in d['usuarios_men']:\n",
    "        usuarios.append(c['usuario'])\n",
    "    usuarios.append(d['usuario'])\n",
    "usuarios = list(set(usuarios))\n",
    "\n",
    "tweets = []\n",
    "tweetsGraph = []\n",
    "tweetsNeo = db.labels.create(\"Tweets\")\n",
    "for d in datos:\n",
    "    tweets.append(d['texto'])"
   ]
  },
  {
   "cell_type": "code",
   "execution_count": 17,
   "metadata": {},
   "outputs": [],
   "source": [
    "#crea los nodos para cada usuario y por cada twitt\n",
    "for u in range(len(usuarios)):\n",
    "    usuariosGraph.append(db.nodes.create(Usuario=usuarios[u]))\n",
    "    usuariosNeo.add(usuariosGraph[u])\n",
    "for t in range(len(tweets)):\n",
    "    tweetsGraph.append(db.nodes.create(Tweet=tweets[t]))\n",
    "    tweetsNeo.add(tweetsGraph[t])"
   ]
  },
  {
   "cell_type": "code",
   "execution_count": 19,
   "metadata": {},
   "outputs": [],
   "source": [
    "#crear las relaciones\n",
    "for n in datos:\n",
    "    iTweet = tweets.index(d['texto'])\n",
    "    iUsuario = usuarios.index(d['usuario'])\n",
    "    tweetsGraph[iTweet].relationships.create(\"twitteado por\", usuariosGraph[iUsuario])\n",
    "    for m in d['usuarios_men']:\n",
    "        iMencionado = usuarios.index(m['usuario'])\n",
    "        tweetsGraph[iTweet].relationships.create(\"Menciona a\", usuariosGraph[iMencionado])"
   ]
  },
  {
   "cell_type": "code",
   "execution_count": null,
   "metadata": {},
   "outputs": [],
   "source": []
  }
 ],
 "metadata": {
  "kernelspec": {
   "display_name": "Python 3",
   "language": "python",
   "name": "python3"
  },
  "language_info": {
   "codemirror_mode": {
    "name": "ipython",
    "version": 3
   },
   "file_extension": ".py",
   "mimetype": "text/x-python",
   "name": "python",
   "nbconvert_exporter": "python",
   "pygments_lexer": "ipython3",
   "version": "3.6.5"
  }
 },
 "nbformat": 4,
 "nbformat_minor": 2
}
